{
 "cells": [
  {
   "cell_type": "code",
   "execution_count": 1,
   "metadata": {},
   "outputs": [],
   "source": [
    "import numpy as np\n",
    "import random\n",
    "from tqdm import tqdm_notebook as tqdm\n",
    "from IPython.display import display, Math, Latex\n",
    "from math import gcd\n",
    "\n",
    "\n",
    "Cations = np.array(['Ag',\n",
    "                    'Al',\n",
    "                    'Ba',\n",
    "                    'Cu',\n",
    "                    'Co',\n",
    "                    'Fe',\n",
    "                    'H',\n",
    "                    'K',\n",
    "                    'Li',\n",
    "                    'Mg',\n",
    "                    'Na',\n",
    "                    'Sr',\n",
    "                    'Zn',\n",
    "                    'NH3',\n",
    "                   ])\n",
    "Anions = np.array(['Cl',\n",
    "                   'CO3',\n",
    "                   'NO3',\n",
    "                   'OH',\n",
    "                   'SO4',\n",
    "                   'SCN',\n",
    "                   'NH3',\n",
    "                  ])\n",
    "\n",
    "Soluable = {\n",
    "            \"Ba\":['Cl', 'NO3', 'OH', 'NH3'],\n",
    "            \"Cu\":['Cl', 'NO3', 'SO4'],\n",
    "            \"NH3\":['NH3', 'Cl', 'CO3', 'NO3', 'SO4', 'SCN'], #All anions are soluable\n",
    "            \"K\": Anions,\n",
    "            \"Li\":['SO4', 'SCN', 'Cl', 'NO3', 'OH', 'NH3', 'CO3'],\n",
    "            \"Sr\":['Cl', 'NO3', 'OH', 'NH3', 'SCN'], #SCN\n",
    "            \"Na\":Anions,\n",
    "            \"Ag\":['NO3'],\n",
    "            \"Al\":['CO3', 'SO4', 'SCN', 'Cl', 'NO3'],\n",
    "            \"Co\":['Cl', 'NO3'],\n",
    "            \"Fe\":['SO4', 'Cl', 'NO3', 'SCN'], #SCN\n",
    "            \"H\":Anions,\n",
    "            \"Mg\":['SO4', 'Cl', 'NO3', 'NH3', 'SCN'], #SCN\n",
    "            \"Zn\":['SO4', 'Cl', 'NO3', 'SCN'], #SCN\n",
    "           }\n",
    "Precipitate = {\n",
    "            \"Ba\":['CO3', 'SO4', 'SCN'],\n",
    "            \"Cu\":['CO3', 'OH', 'SCN', 'NH3'],\n",
    "            \"NH3\":[],\n",
    "            \"K\": [],\n",
    "            \"Li\":[],\n",
    "            \"Sr\":['CO3', 'SO4'],\n",
    "            \"Na\":[],\n",
    "            \"Ag\":['Cl', 'CO3', 'NH3'],\n",
    "            \"Al\":['OH', 'NH3'],\n",
    "            \"Co\":['CO3', 'SO4', 'SCN', 'OH', 'NH3'],\n",
    "            \"Fe\":['OH', 'CO3', 'NH3'],\n",
    "            \"H\":[],\n",
    "            \"Mg\":['CO3', 'OH'],\n",
    "            \"Zn\":['CO3', 'OH', 'NH3'],\n",
    "}\n",
    "\n",
    "Slightly = {\n",
    "            \"Ba\":[],\n",
    "            \"Cu\":[],\n",
    "            \"NH3\":[],\n",
    "            \"K\": [],\n",
    "            \"Li\":[],\n",
    "            \"Sr\":[],\n",
    "            \"Na\":[],\n",
    "            \"Ag\":['OH', 'SO4', 'SCN'],\n",
    "            \"Al\":[],\n",
    "            \"Co\":[],\n",
    "            \"Fe\":[],\n",
    "            \"H\":[],\n",
    "            \"Mg\":[],\n",
    "            \"Zn\":[],\n",
    "}\n",
    "\n",
    "Gas = {\n",
    "            \"Ba\":[],\n",
    "            \"Cu\":[],\n",
    "            \"NH3\":['OH'],\n",
    "            \"K\": [],\n",
    "            \"Li\":[],\n",
    "            \"Sr\":[],\n",
    "            \"Na\":[],\n",
    "            \"Ag\":[],\n",
    "            \"Al\":[],\n",
    "            \"Co\":[],\n",
    "            \"Fe\":[],\n",
    "            \"H\":[],\n",
    "            \"Mg\":[],\n",
    "            \"Zn\":[],\n",
    "}\n",
    "\n",
    "CationCharge = {'Ag':1,\n",
    "                'Al':3,\n",
    "                'Ba':2,\n",
    "                'Cu':2,\n",
    "                'Co':2,\n",
    "                'Fe':3,\n",
    "                'H':1,\n",
    "                'K':1,\n",
    "                'Li':1,\n",
    "                'Mg':2,\n",
    "                'Na':1,\n",
    "                'Sr':2,\n",
    "                'Zn':2,\n",
    "                'NH3':1,\n",
    "                   }\n",
    "AnionCharge = {'Cl':-1,\n",
    "               'CO3':-2,\n",
    "               'NO3':-1,\n",
    "               'OH':-1,\n",
    "               'SO4':-2,\n",
    "               'SCN':-1,\n",
    "               'NH3':1,\n",
    "              }\n",
    "\n",
    "Acidic = ['Ag', 'Cu', 'Co', 'Fe', 'H', 'Mg', 'Zn']\n",
    "Neutral = ['Al', 'Ba', 'K', 'Li', 'Na', 'Sr', 'Cl', 'NO3', 'SO4']\n",
    "Basic = ['NH3', 'CO3', 'OH']\n",
    "\n",
    "# Acidicity = [0,1,1,1,0,0,1,0,-1,-1,-1,-1,0,0] #original\n",
    "Acidicity = [0,1,1,1,1,1,1,0,-1,-1,-1,-1,0,0] #modified using threshold\n",
    "\n",
    "Real_precipitate_0 = [1,0,1,0,0,1,1,1,1,0,0,1,1,0]\n",
    "Real_precipitate_1 = [0,1,0,0,0,0,0,0,1,0,1,1,0,0]\n",
    "Real_precipitate_2 = [0,0,1,0,1,0,0,0,1,1,1,1,0,0]\n",
    "Real_precipitate_3 = [0,0,0,1,0,0,0,0,1,0,1,1,0,1]\n",
    "Real_precipitate_4 = [0,0,0,0,1,0,0,0,1,0,0,1,1,0]\n",
    "Real_precipitate_5 = [0,0,0,0,0,1,0,0,1,0,1,1,0,0]\n",
    "Real_precipitate_6 = [0,0,0,0,0,0,1,0,0,0,0,0,0,0]\n",
    "Real_precipitate_7 = [0,0,0,0,0,0,0,1,0,0,0,0,0,0]\n",
    "Real_precipitate_8 = [0,0,0,0,0,0,0,0,1,1,0,0,1,1]\n",
    "Real_precipitate_9 = [0,0,0,0,0,0,0,0,0,1,1,1,1,1]\n",
    "Real_precipitate_10 = [0,0,0,0,0,0,0,0,0,0,1,0,0,0]\n",
    "Real_precipitate_11 = [0,0,0,0,0,0,0,0,0,0,0,1,1,1]\n",
    "Real_precipitate_12 = [0,0,0,0,0,0,0,0,0,0,0,0,1,0]\n",
    "Real_precipitate_13 = [0,0,0,0,0,0,0,0,0,0,0,0,0,1]\n",
    "\n",
    "Rreal_Precipitate = np.array([Real_precipitate_0,\n",
    "                     Real_precipitate_1,\n",
    "                     Real_precipitate_2,\n",
    "                     Real_precipitate_3,\n",
    "                     Real_precipitate_4,\n",
    "                     Real_precipitate_5,\n",
    "                     Real_precipitate_6,\n",
    "                     Real_precipitate_7,\n",
    "                     Real_precipitate_8,\n",
    "                     Real_precipitate_9,\n",
    "                     Real_precipitate_10,\n",
    "                     Real_precipitate_11,\n",
    "                     Real_precipitate_12,\n",
    "                     Real_precipitate_13,\n",
    "                    ])\n",
    "\n",
    "fixed_pairs = {\n",
    "        \"Fe\": \"Cl\", #1 (yellow-brown)\n",
    "        \"Ba\": \"NO3\", #0 (colorless)\n",
    "        \"Li\": \"OH\", #-1 (white)\n",
    "        \"K\": \"SCN\", #-1\n",
    "        \"H\": \"SO4\", #1\n",
    "        \"Ag\": \"NO3\", #1\n",
    "        \"Na\": \"CO3\", #-1\n",
    "        \"Al\": \"NO3\", #0\n",
    "        \"Cu\": \"SO4\", #1 (blue-green)\n",
    "        \"Sr\": \"Cl\", #0\n",
    "        \"NH3\": \"NH3\", #-1\n",
    "        \"Zn\": \"NO3\", #1\n",
    "        \"Co\": \"Cl\", #1 (pink-red)\n",
    "        \"Mg\": \"SO4\", #1\n",
    "    } #7 acid, 4 basic, 3 neutral"
   ]
  },
  {
   "cell_type": "code",
   "execution_count": 2,
   "metadata": {},
   "outputs": [],
   "source": [
    "def generateTable():\n",
    "    cations = np.random.permutation(Cations)\n",
    "    anions = np.random.choice(Anions, len(cations))\n",
    "#     for i, (cation, anion) in enumerate(zip(cations, anions)):\n",
    "#         print(i, cation, anion)\n",
    "    return dict(zip(cations, anions))\n",
    "\n",
    "def pashuffle(data, perc=10):\n",
    "    data = data.copy()\n",
    "    for index, letter in enumerate(data):\n",
    "        if random.randrange(0, 100) < perc/2:\n",
    "            new_index = random.randrange(0, len(data))\n",
    "            data[index], data[new_index] = data[new_index], data[index]\n",
    "    return data\n",
    "\n",
    "def swap_elements(olds, news, lr=0.05):\n",
    "    new_list = np.array(olds)\n",
    "#     print(len(olds), len(news))\n",
    "    for i, new in enumerate(news):\n",
    "        chance = np.random.choice([True, False], p=[lr, 1-lr], replace=False)\n",
    "        if chance: new_list[i] = news[i]\n",
    "    return new_list"
   ]
  },
  {
   "cell_type": "code",
   "execution_count": 3,
   "metadata": {},
   "outputs": [],
   "source": [
    "def UpdateTable(table, known_cations, update_cations=True, update_anions=True, fix_pairs=False, lr=0.05):\n",
    "    cations = list(table.keys())\n",
    "    anions = list(table.values())\n",
    "    \n",
    "    if not fix_pairs:\n",
    "        if update_cations:\n",
    "            cations = pashuffle(cations, perc=lr*100)\n",
    "        if update_anions:\n",
    "            anions = swap_elements(anions, np.random.choice(Anions, 14), lr)\n",
    "    else:\n",
    "        insert_cations = list()\n",
    "        for i, known_cation in enumerate(known_cations):\n",
    "            if known_cation == None:\n",
    "                insert_cations.append(cations[i])\n",
    "        return generate_table_from_cations(randomly_fill_out_the_blank(known_cations, insert_cations, lr))\n",
    "    return dict(zip(cations, anions))\n",
    "\n",
    "def generate_table_from_cations(generated_cations):\n",
    "    generated_anions = [None, None, None, None, None, None, None, None, None, None, None, None, None, None]\n",
    "    for i, known in enumerate(generated_cations):\n",
    "        generated_anions[i] = fixed_pairs[known]\n",
    "    return dict(zip(generated_cations, generated_anions))\n",
    "\n",
    "def generate_table_from_fixed_pairs(known_cations, lr=1):\n",
    "    insert_cations = np.random.permutation(list(set(Cations)-set(known_cations)))\n",
    "    return generate_table_from_cations(randomly_fill_out_the_blank(known_cations, insert_cations, lr))\n",
    "\n",
    "def randomly_fill_out_the_blank(known_cations, insert_cations, lr):\n",
    "    known_cations = known_cations.copy()\n",
    "    insert_cations = pashuffle(insert_cations, perc=lr*100)\n",
    "    for insert in insert_cations:\n",
    "        for i, known in enumerate(known_cations):\n",
    "            if known == None:\n",
    "                known_cations[i] = insert\n",
    "                break\n",
    "    return known_cations\n",
    "    \n",
    "# print(generate_table_from_fixed_pairs([None, None, None, \"Co\", \"Cu\", \"Fe\", None, None, None, None, None, \"Na\", None, None]))"
   ]
  },
  {
   "cell_type": "code",
   "execution_count": 4,
   "metadata": {},
   "outputs": [],
   "source": [
    "def calculateScore(table):\n",
    "#     precipitation_table = np.chararray((14,14))\n",
    "#     precipitation_table[:] = '#'\n",
    "    fit_acidicity = 0\n",
    "    fit_reaction = 0\n",
    "    count = 0\n",
    "    score = 0\n",
    "#     print(table)\n",
    "    for i, (cation, anion) in enumerate(zip(table.keys(), table.values())):\n",
    "        cation1 = cation\n",
    "        anion1 = anion\n",
    "        \n",
    "        if (anion1 not in Soluable[cation1]):\n",
    "            print(\"Cation {} is not soluble with {}\".format(cation1, anion1))\n",
    "            return -99999, None, 0, 0\n",
    "#             score = score -50\n",
    "        \n",
    "        acidicity1 = 0\n",
    "        if (cation1 in Acidic): acidicity1 = acidicity1+1\n",
    "        if (cation1 in Basic): acidicity1 = acidicity1-1\n",
    "        if (anion1 in Acidic): acidicity1 = acidicity1+1\n",
    "        if (anion1 in Basic): acidicity1 = acidicity1-1\n",
    "        acidicity1 = np.clip(acidicity1, -1, 1)\n",
    "        loss = abs(acidicity1 - Acidicity[i])*5\n",
    "        if i in [6, 8, 9, 10, 11] and loss != 0:\n",
    "            loss = abs(acidicity1 - Acidicity[i])*20\n",
    "        score = score - loss\n",
    "        \n",
    "        if loss == 0:\n",
    "            fit_acidicity = fit_acidicity+1\n",
    "#         if loss != 0:\n",
    "#             print(\"\"\"\"\n",
    "#             Acidicity Expect {}, got {} for {}{}\n",
    "#             Acid Cation: {}\n",
    "#             Basic Cation {}\n",
    "#             Acid Anion: {}\n",
    "#             Basic Anion: {}\n",
    "#             \"\"\".format(Acidicity[i], acidicity1, cation1, anion1,\n",
    "#                        (cation1 in Acidic),\n",
    "#                        (cation1 in Basic),\n",
    "#                        (anion1 in Acidic),\n",
    "#                        (anion1 in Basic),\n",
    "#                       ))\n",
    "        \n",
    "        i2 = i\n",
    "        while(i2+1 <= len(table)-1):\n",
    "            i2 = i2+1\n",
    "            cation2 = list(table.keys())[i2]\n",
    "            anion2 = list(table.values())[i2]\n",
    "            count = count+1\n",
    "            \n",
    "            if (anion2 not in Soluable[cation2]):\n",
    "                print(\"Cation {} is not soluble with {}\".format(cation2, anion2))\n",
    "                return -99999, None, 0, 0\n",
    "#                 score = score -50\n",
    "            \n",
    "#             acidicity2 = 0\n",
    "#             if (cation2 in Acidic): acidicity2+1\n",
    "#             if (cation2 in Basic): acidicity2-1\n",
    "#             if (anion2 in Acidic): acidicity2+1\n",
    "#             if (anion2 in Basic): acidicity2-1\n",
    "#             score = score - abs(acidicity2 - Acidicity[i2])*100\n",
    "            \n",
    "            produce_precipitate1 = anion2 in Precipitate[cation1]\n",
    "            produce_precipitate2 = anion1 in Precipitate[cation2]\n",
    "            produce_slightly1 = anion2 in Slightly[cation1]\n",
    "            produce_slightly2 = anion1 in Slightly[cation2]\n",
    "            produce_solution1 = anion2 in Soluable[cation1]\n",
    "            produce_solution2 = anion1 in Soluable[cation2]\n",
    "            produce_gas1 = anion2 in Gas[cation1]\n",
    "            produce_gas2 = anion1 in Gas[cation2]\n",
    "            \n",
    "            if (produce_precipitate1 + produce_slightly1 + produce_solution1 + produce_gas1) != 1:\n",
    "                raise ValueError(\"\"\"\n",
    "                Have more than one result:\n",
    "                produce_precipitate1: {}\n",
    "                produce_slightly1: {}\n",
    "                produce_solution1: {}\n",
    "                produce_gas1: {}\n",
    "                {}:{}\n",
    "                \"\"\".format(produce_precipitate1, produce_slightly1, produce_solution1, produce_gas1, cation1, anion2))\n",
    "            if (produce_precipitate2 + produce_slightly2 + produce_solution2 + produce_gas2) != 1:\n",
    "                raise ValueError(\"\"\"\n",
    "                Have more than one result:\n",
    "                produce_precipitate2: {}\n",
    "                produce_slightly2: {}\n",
    "                produce_solution2: {}\n",
    "                produce_gas2: {}\n",
    "                {}:{}\n",
    "                \"\"\".format(produce_precipitate2, produce_slightly2, produce_solution2, produce_gas2, cation2, anion1))\n",
    "            \n",
    "            produce_precipitate = produce_precipitate1 or produce_precipitate2 or produce_slightly1 or produce_slightly2\n",
    "            produce_solution = produce_solution1 and produce_solution2\n",
    "            produce_gas = produce_gas1 or produce_gas2\n",
    "            \n",
    "            if produce_precipitate == Rreal_Precipitate[i][i2]:\n",
    "                score = score +1\n",
    "                fit_reaction = fit_reaction + 1\n",
    "#                 precipitation_table[i2][i] = '*' if Rreal_Precipitate[i][i2] else '_'\n",
    "            else:\n",
    "                score = score -1\n",
    "#                 precipitation_table[i2][i] = 'X' if Rreal_Precipitate[i][i2] else '0'\n",
    "            \n",
    "#         print(count)\n",
    "#     print(\"Final Score = {}\".format(score))\n",
    "#     print(precipitation_table)\n",
    "    return score, table, fit_acidicity, fit_reaction\n",
    "\n",
    "def evaluate_table(table):\n",
    "    precipitation_table = np.chararray((14,14))\n",
    "    precipitation_table[:] = '#'\n",
    "    fit_acidicity = 0\n",
    "    fit_reaction = 0\n",
    "    count = 0\n",
    "    score = 0\n",
    "    for i, (cation, anion) in enumerate(zip(table.keys(), table.values())):\n",
    "        cation1 = cation\n",
    "        anion1 = anion\n",
    "        \n",
    "        if (anion1 not in Soluable[cation1]):\n",
    "            print(\"Cation {} is not soluble with {}\".format(cation1, anion1))\n",
    "            return -99999, None, 0, 0\n",
    "        \n",
    "        acidicity1 = 0\n",
    "        if (cation1 in Acidic): acidicity1 = acidicity1+1\n",
    "        if (cation1 in Basic): acidicity1 = acidicity1-1\n",
    "        if (anion1 in Acidic): acidicity1 = acidicity1+1\n",
    "        if (anion1 in Basic): acidicity1 = acidicity1-1\n",
    "        acidicity1 = np.clip(acidicity1, -1, 1)\n",
    "        loss = abs(acidicity1 - Acidicity[i])*5\n",
    "        if i in [6, 8, 9, 10, 11] and loss != 0:\n",
    "            loss = abs(acidicity1 - Acidicity[i])*20\n",
    "        score = score - loss\n",
    "        \n",
    "        if loss == 0:\n",
    "            fit_acidicity = fit_acidicity+1\n",
    "        if loss != 0:\n",
    "            print(\"\"\"\n",
    "            Acidicity Expect {} for #{} {}{}, got {}\n",
    "            Acid Cation: {} Basic Cation {}\n",
    "            Acid Anion: {} Basic Anion: {}\n",
    "            \"\"\".format(Acidicity[i], i, cation1, anion1, acidicity1,\n",
    "                       (cation1 in Acidic),\n",
    "                       (cation1 in Basic),\n",
    "                       (anion1 in Acidic),\n",
    "                       (anion1 in Basic),\n",
    "                      ))\n",
    "        \n",
    "        i2 = i\n",
    "        while(i2+1 <= len(table)-1):\n",
    "            i2 = i2+1\n",
    "            cation2 = list(table.keys())[i2]\n",
    "            anion2 = list(table.values())[i2]\n",
    "            count = count+1\n",
    "            \n",
    "            if (anion2 not in Soluable[cation2]):\n",
    "                print(\"Cation {} is not soluble with {}\".format(cation2, anion2))\n",
    "                return -99999, None, 0, 0\n",
    "            \n",
    "            produce_precipitate1 = anion2 in Precipitate[cation1]\n",
    "            produce_precipitate2 = anion1 in Precipitate[cation2]\n",
    "            produce_slightly1 = anion2 in Slightly[cation1]\n",
    "            produce_slightly2 = anion1 in Slightly[cation2]\n",
    "            produce_solution1 = anion2 in Soluable[cation1]\n",
    "            produce_solution2 = anion1 in Soluable[cation2]\n",
    "            produce_gas1 = anion2 in Gas[cation1]\n",
    "            produce_gas2 = anion1 in Gas[cation2]\n",
    "            \n",
    "            if (produce_precipitate1 + produce_slightly1 + produce_solution1 + produce_gas1) != 1:\n",
    "                raise ValueError(\"\"\"\n",
    "                Have more than one result:\n",
    "                produce_precipitate1: {}\n",
    "                produce_slightly1: {}\n",
    "                produce_solution1: {}\n",
    "                produce_gas1: {}\n",
    "                {}:{}\n",
    "                \"\"\".format(produce_precipitate1, produce_slightly1, produce_solution1, produce_gas1, cation1, anion2))\n",
    "            if (produce_precipitate2 + produce_slightly2 + produce_solution2 + produce_gas2) != 1:\n",
    "                raise ValueError(\"\"\"\n",
    "                Have more than one result:\n",
    "                produce_precipitate2: {}\n",
    "                produce_slightly2: {}\n",
    "                produce_solution2: {}\n",
    "                produce_gas2: {}\n",
    "                {}:{}\n",
    "                \"\"\".format(produce_precipitate2, produce_slightly2, produce_solution2, produce_gas2, cation2, anion1))\n",
    "            \n",
    "            produce_precipitate = produce_precipitate1 or produce_precipitate2 or produce_slightly1 or produce_slightly2\n",
    "            produce_solution = produce_solution1 and produce_solution2\n",
    "            produce_gas = produce_gas1 or produce_gas2\n",
    "            \n",
    "            if produce_precipitate == Rreal_Precipitate[i][i2]:\n",
    "                score = score +1\n",
    "                fit_reaction = fit_reaction + 1\n",
    "                precipitation_table[i2][i] = '*' if Rreal_Precipitate[i][i2] else '_'\n",
    "            else:\n",
    "                score = score -1\n",
    "                precipitation_table[i2][i] = 'X' if Rreal_Precipitate[i][i2] else '0'\n",
    "            \n",
    "            if produce_precipitate1:\n",
    "                if cation1 == \"NH3\" or anion2 == \"NH3\":\n",
    "                    print(\"#{}-{} Cation: {}, Anion: {} - Redox\".format(i+1, i2+1, cation1, anion2))\n",
    "                else:\n",
    "                    cation_amount = abs(AnionCharge[anion2])\n",
    "                    anion_amount = abs(CationCharge[cation1])\n",
    "                    factor = gcd(cation_amount,anion_amount)\n",
    "                    cation_amount = int(cation_amount/factor)\n",
    "                    anion_amount = int(anion_amount/factor)\n",
    "                    if cation_amount == 1: cation_amount = \"\\,\"\n",
    "                    if anion_amount == 1: anion_amount = \"\\,\"\n",
    "                    c_charge = CationCharge[cation1]\n",
    "                    a_charge = AnionCharge[anion2]\n",
    "                    if c_charge == 1: c_charge = \"{+}\"\n",
    "                    elif c_charge == 2: c_charge = \"{2+}\"\n",
    "                    elif c_charge == 3: c_charge = \"{3+}\"\n",
    "                    elif c_charge == 4: c_charge = \"{4+}\"\n",
    "                    if a_charge == -1: a_charge = \"{-}\"\n",
    "                    elif a_charge == -2: a_charge = \"{2-}\"\n",
    "                    elif a_charge == -3: a_charge = \"{3-}\"\n",
    "                    elif a_charge == -4: a_charge = \"{4-}\"\n",
    "                    output = r\"#{}-{} ${}{}^{}$(aq) + ${}{}^{}$(aq) $\\rightarrow$ ${}_{}{}_{}$(s)\".format(i+1, i2+1, cation_amount, cation1, c_charge, anion_amount, anion2, '{'+str(a_charge)+'}', cation1, cation_amount, anion2, anion_amount)\n",
    "                    display(Latex(output))\n",
    "            elif produce_precipitate2:\n",
    "                if cation2 == \"NH3\" or anion1 == \"NH3\":\n",
    "                    print(\"#{}-{} Cation: {}, Anion: {} - Redox\".format(i+1, i2+1, cation2, anion1))\n",
    "                else:\n",
    "                    cation_amount = abs(AnionCharge[anion1])\n",
    "                    anion_amount = abs(CationCharge[cation2])\n",
    "                    factor = gcd(cation_amount,anion_amount)\n",
    "                    cation_amount = int(cation_amount/factor)\n",
    "                    anion_amount = int(anion_amount/factor)\n",
    "                    if cation_amount == 1: cation_amount = \"\\,\"\n",
    "                    if anion_amount == 1: anion_amount = \"\\,\"\n",
    "                    c_charge = CationCharge[cation2]\n",
    "                    a_charge = AnionCharge[anion1]\n",
    "                    if c_charge == 1: c_charge = \"{+}\"\n",
    "                    elif c_charge == 2: c_charge = \"{2+}\"\n",
    "                    elif c_charge == 3: c_charge = \"{3+}\"\n",
    "                    elif c_charge == 4: c_charge = \"{4+}\"\n",
    "                    if a_charge == -1: a_charge = \"{-}\"\n",
    "                    elif a_charge == -2: a_charge = \"{2-}\"\n",
    "                    elif a_charge == -3: a_charge = \"{3-}\"\n",
    "                    elif a_charge == -4: a_charge = \"{4-}\"\n",
    "                    output = r\"#{}-{} ${}{}^{}$(aq) + ${}{}^{}$(aq) $\\rightarrow$ ${}_{}{}_{}$(s)\".format(i+1, i2+1, cation_amount, cation2, c_charge, anion_amount, anion1, '{'+str(a_charge)+'}', cation2, cation_amount, anion1, anion_amount)\n",
    "                    display(Latex(output))\n",
    "            \n",
    "    print(\"final_score={}, fit_acidicity={}, fit_reaction={}\".format(score, fit_acidicity, fit_reaction))\n",
    "    print(precipitation_table)"
   ]
  },
  {
   "cell_type": "code",
   "execution_count": 5,
   "metadata": {
    "scrolled": false
   },
   "outputs": [
    {
     "name": "stdout",
     "output_type": "stream",
     "text": [
      "The Probability of finding the global min: 0.6321205681692739\n"
     ]
    },
    {
     "data": {
      "application/vnd.jupyter.widget-view+json": {
       "model_id": "8e6c74a473954f17ab323b6655a2ab84",
       "version_major": 2,
       "version_minor": 0
      },
      "text/plain": [
       "HBox(children=(IntProgress(value=0, max=10000000), HTML(value='')))"
      ]
     },
     "metadata": {},
     "output_type": "display_data"
    },
    {
     "name": "stdout",
     "output_type": "stream",
     "text": [
      "['00', '01', '02', '03', '04', '05', '06', '07', '08', '09', '10', '11', '12', '13'] |-00->00->00\n",
      "['Mg', 'Zn', 'Ba', 'Co', 'Cu', 'Fe', 'H', 'Sr', 'Li', 'Al', 'NH3', 'Na', 'Ag', 'K'] |4->10->65\n",
      "['Sr', 'Zn', 'Ba', 'Co', 'Cu', 'Fe', 'H', 'Al', 'Li', 'K', 'NH3', 'Na', 'Ag', 'Mg'] |4->10->65\n",
      "['Ag', 'Zn', 'Ba', 'Co', 'Cu', 'Fe', 'H', 'K', 'Na', 'Al', 'NH3', 'Li', 'Sr', 'Mg'] |12->10->69\n",
      "['Ag', 'Zn', 'Ba', 'Co', 'Cu', 'Fe', 'H', 'K', 'Li', 'Al', 'NH3', 'Na', 'Sr', 'Mg'] |12->10->69\n",
      "['Ag', 'Zn', 'Ba', 'Co', 'Cu', 'Fe', 'H', 'K', 'Na', 'Al', 'NH3', 'Li', 'Sr', 'Mg'] |12->10->69\n",
      "['Ag', 'Zn', 'Ba', 'Co', 'Cu', 'Fe', 'H', 'K', 'Li', 'Al', 'NH3', 'Na', 'Sr', 'Mg'] |12->10->69\n",
      "['Ag', 'Zn', 'Ba', 'Co', 'Cu', 'Fe', 'H', 'K', 'Li', 'Al', 'NH3', 'Na', 'Sr', 'Mg'] |12->10->69\n",
      "['Ag', 'Zn', 'Ba', 'Co', 'Cu', 'Fe', 'H', 'K', 'Li', 'Al', 'NH3', 'Na', 'Sr', 'Mg'] |12->10->69\n",
      "['Ag', 'Zn', 'Ba', 'Co', 'Cu', 'Fe', 'H', 'K', 'Li', 'Al', 'NH3', 'Na', 'Sr', 'Mg'] |12->10->69\n",
      "['Ag', 'Zn', 'Ba', 'Co', 'Cu', 'Fe', 'H', 'K', 'Li', 'Al', 'NH3', 'Na', 'Sr', 'Mg'] |12->10->69\n",
      "['Ag', 'Zn', 'Ba', 'Co', 'Cu', 'Fe', 'H', 'K', 'Li', 'Al', 'NH3', 'Na', 'Sr', 'Mg'] |12->10->69\n",
      "['Ag', 'Zn', 'Ba', 'Co', 'Cu', 'Fe', 'H', 'K', 'Li', 'Al', 'NH3', 'Na', 'Sr', 'Mg'] |12->10->69\n",
      "['Ag', 'Zn', 'Ba', 'Co', 'Cu', 'Fe', 'H', 'K', 'Li', 'Al', 'NH3', 'Na', 'Sr', 'Mg'] |12->10->69\n",
      "['Ag', 'Zn', 'Ba', 'Co', 'Cu', 'Fe', 'H', 'K', 'Na', 'Al', 'NH3', 'Li', 'Sr', 'Mg'] |12->10->69\n",
      "['Ag', 'Zn', 'Ba', 'Co', 'Cu', 'Fe', 'H', 'K', 'Na', 'Al', 'NH3', 'Li', 'Sr', 'Mg'] |12->10->69\n",
      "['Ag', 'Zn', 'Ba', 'Co', 'Cu', 'Fe', 'H', 'K', 'Na', 'Al', 'NH3', 'Li', 'Sr', 'Mg'] |12->10->69\n",
      "['Ag', 'Zn', 'Ba', 'Co', 'Cu', 'Fe', 'H', 'K', 'Li', 'Al', 'NH3', 'Na', 'Sr', 'Mg'] |12->10->69\n",
      "['Ag', 'Zn', 'Ba', 'Co', 'Cu', 'Fe', 'H', 'K', 'Li', 'Al', 'NH3', 'Na', 'Sr', 'Mg'] |12->10->69\n",
      "['Ag', 'Zn', 'Ba', 'Co', 'Cu', 'Fe', 'H', 'K', 'Li', 'Al', 'NH3', 'Na', 'Sr', 'Mg'] |12->10->69\n",
      "['Ag', 'Zn', 'Ba', 'Co', 'Cu', 'Fe', 'H', 'K', 'Na', 'Al', 'NH3', 'Li', 'Sr', 'Mg'] |12->10->69\n",
      "['Ag', 'Zn', 'Ba', 'Co', 'Cu', 'Fe', 'H', 'K', 'Li', 'Al', 'NH3', 'Na', 'Sr', 'Mg'] |12->10->69\n",
      "['Ag', 'Zn', 'Ba', 'Co', 'Cu', 'Fe', 'H', 'K', 'Li', 'Al', 'NH3', 'Na', 'Sr', 'Mg'] |12->10->69\n",
      "['Ag', 'Zn', 'Ba', 'Co', 'Cu', 'Fe', 'H', 'K', 'Li', 'Al', 'NH3', 'Na', 'Sr', 'Mg'] |12->10->69\n",
      "['Ag', 'Zn', 'Ba', 'Co', 'Cu', 'Fe', 'H', 'K', 'Na', 'Al', 'NH3', 'Li', 'Sr', 'Mg'] |12->10->69\n",
      "['Ag', 'Zn', 'Ba', 'Co', 'Cu', 'Fe', 'H', 'K', 'Na', 'Al', 'NH3', 'Li', 'Sr', 'Mg'] |12->10->69\n",
      "['Ag', 'Zn', 'Ba', 'Co', 'Cu', 'Fe', 'H', 'K', 'Na', 'Al', 'NH3', 'Li', 'Sr', 'Mg'] |12->10->69\n",
      "['Ag', 'Zn', 'Ba', 'Co', 'Cu', 'Fe', 'H', 'K', 'Li', 'Al', 'NH3', 'Na', 'Sr', 'Mg'] |12->10->69\n",
      "['Ag', 'Zn', 'Ba', 'Co', 'Cu', 'Fe', 'H', 'K', 'Na', 'Al', 'NH3', 'Li', 'Sr', 'Mg'] |12->10->69\n",
      "['Ag', 'Zn', 'Ba', 'Co', 'Cu', 'Fe', 'H', 'K', 'Na', 'Al', 'NH3', 'Li', 'Sr', 'Mg'] |12->10->69\n",
      "['Ag', 'Zn', 'Ba', 'Co', 'Cu', 'Fe', 'H', 'K', 'Li', 'Al', 'NH3', 'Na', 'Sr', 'Mg'] |12->10->69\n",
      "['Ag', 'Zn', 'Ba', 'Co', 'Cu', 'Fe', 'H', 'K', 'Li', 'Al', 'NH3', 'Na', 'Sr', 'Mg'] |12->10->69\n",
      "['Ag', 'Zn', 'Ba', 'Co', 'Cu', 'Fe', 'H', 'K', 'Li', 'Al', 'NH3', 'Na', 'Sr', 'Mg'] |12->10->69\n",
      "['Ag', 'Zn', 'Ba', 'Co', 'Cu', 'Fe', 'H', 'K', 'Na', 'Al', 'NH3', 'Li', 'Sr', 'Mg'] |12->10->69\n",
      "['Ag', 'Zn', 'Ba', 'Co', 'Cu', 'Fe', 'H', 'K', 'Li', 'Al', 'NH3', 'Na', 'Sr', 'Mg'] |12->10->69\n",
      "['Ag', 'Zn', 'Ba', 'Co', 'Cu', 'Fe', 'H', 'K', 'Li', 'Al', 'NH3', 'Na', 'Sr', 'Mg'] |12->10->69\n",
      "\n",
      "    real_score=12\n",
      "    ['Ag', 'Zn', 'Ba', 'Co', 'Cu', 'Fe', 'H', 'K', 'Li', 'Al', 'NH3', 'Na', 'Sr', 'Mg']\n",
      "    ['NO3', 'NO3', 'NO3', 'Cl', 'SO4', 'Cl', 'SO4', 'SCN', 'OH', 'NO3', 'NH3', 'CO3', 'Cl', 'SO4']\n",
      "    \n",
      "\n",
      "            Acidicity Expect 0 for #0 AgNO3, got 1\n",
      "            Acid Cation: True Basic Cation False\n",
      "            Acid Anion: False Basic Anion: False\n",
      "            \n"
     ]
    },
    {
     "data": {
      "text/latex": [
       "#1-4 $\\,Ag^{+}$(aq) + $\\,Cl^{{-}}$(aq) $\\rightarrow$ $Ag_\\,Cl_\\,$(s)"
      ],
      "text/plain": [
       "<IPython.core.display.Latex object>"
      ]
     },
     "metadata": {},
     "output_type": "display_data"
    },
    {
     "data": {
      "text/latex": [
       "#1-6 $\\,Ag^{+}$(aq) + $\\,Cl^{{-}}$(aq) $\\rightarrow$ $Ag_\\,Cl_\\,$(s)"
      ],
      "text/plain": [
       "<IPython.core.display.Latex object>"
      ]
     },
     "metadata": {},
     "output_type": "display_data"
    },
    {
     "name": "stdout",
     "output_type": "stream",
     "text": [
      "#1-11 Cation: Ag, Anion: NH3 - Redox\n"
     ]
    },
    {
     "data": {
      "text/latex": [
       "#1-12 $2Ag^{+}$(aq) + $\\,CO3^{{2-}}$(aq) $\\rightarrow$ $Ag_2CO3_\\,$(s)"
      ],
      "text/plain": [
       "<IPython.core.display.Latex object>"
      ]
     },
     "metadata": {},
     "output_type": "display_data"
    },
    {
     "data": {
      "text/latex": [
       "#1-13 $\\,Ag^{+}$(aq) + $\\,Cl^{{-}}$(aq) $\\rightarrow$ $Ag_\\,Cl_\\,$(s)"
      ],
      "text/plain": [
       "<IPython.core.display.Latex object>"
      ]
     },
     "metadata": {},
     "output_type": "display_data"
    },
    {
     "data": {
      "text/latex": [
       "#2-9 $\\,Zn^{2+}$(aq) + $2OH^{{-}}$(aq) $\\rightarrow$ $Zn_\\,OH_2$(s)"
      ],
      "text/plain": [
       "<IPython.core.display.Latex object>"
      ]
     },
     "metadata": {},
     "output_type": "display_data"
    },
    {
     "name": "stdout",
     "output_type": "stream",
     "text": [
      "#2-11 Cation: Zn, Anion: NH3 - Redox\n"
     ]
    },
    {
     "data": {
      "text/latex": [
       "#2-12 $\\,Zn^{2+}$(aq) + $\\,CO3^{{2-}}$(aq) $\\rightarrow$ $Zn_\\,CO3_\\,$(s)"
      ],
      "text/plain": [
       "<IPython.core.display.Latex object>"
      ]
     },
     "metadata": {},
     "output_type": "display_data"
    },
    {
     "name": "stdout",
     "output_type": "stream",
     "text": [
      "\n",
      "            Acidicity Expect 1 for #2 BaNO3, got 0\n",
      "            Acid Cation: False Basic Cation False\n",
      "            Acid Anion: False Basic Anion: False\n",
      "            \n"
     ]
    },
    {
     "data": {
      "text/latex": [
       "#3-5 $\\,Ba^{2+}$(aq) + $\\,SO4^{{2-}}$(aq) $\\rightarrow$ $Ba_\\,SO4_\\,$(s)"
      ],
      "text/plain": [
       "<IPython.core.display.Latex object>"
      ]
     },
     "metadata": {},
     "output_type": "display_data"
    },
    {
     "data": {
      "text/latex": [
       "#3-7 $\\,Ba^{2+}$(aq) + $\\,SO4^{{2-}}$(aq) $\\rightarrow$ $Ba_\\,SO4_\\,$(s)"
      ],
      "text/plain": [
       "<IPython.core.display.Latex object>"
      ]
     },
     "metadata": {},
     "output_type": "display_data"
    },
    {
     "data": {
      "text/latex": [
       "#3-8 $\\,Ba^{2+}$(aq) + $2SCN^{{-}}$(aq) $\\rightarrow$ $Ba_\\,SCN_2$(s)"
      ],
      "text/plain": [
       "<IPython.core.display.Latex object>"
      ]
     },
     "metadata": {},
     "output_type": "display_data"
    },
    {
     "data": {
      "text/latex": [
       "#3-12 $\\,Ba^{2+}$(aq) + $\\,CO3^{{2-}}$(aq) $\\rightarrow$ $Ba_\\,CO3_\\,$(s)"
      ],
      "text/plain": [
       "<IPython.core.display.Latex object>"
      ]
     },
     "metadata": {},
     "output_type": "display_data"
    },
    {
     "data": {
      "text/latex": [
       "#3-14 $\\,Ba^{2+}$(aq) + $\\,SO4^{{2-}}$(aq) $\\rightarrow$ $Ba_\\,SO4_\\,$(s)"
      ],
      "text/plain": [
       "<IPython.core.display.Latex object>"
      ]
     },
     "metadata": {},
     "output_type": "display_data"
    },
    {
     "data": {
      "text/latex": [
       "#4-5 $\\,Co^{2+}$(aq) + $\\,SO4^{{2-}}$(aq) $\\rightarrow$ $Co_\\,SO4_\\,$(s)"
      ],
      "text/plain": [
       "<IPython.core.display.Latex object>"
      ]
     },
     "metadata": {},
     "output_type": "display_data"
    },
    {
     "data": {
      "text/latex": [
       "#4-7 $\\,Co^{2+}$(aq) + $\\,SO4^{{2-}}$(aq) $\\rightarrow$ $Co_\\,SO4_\\,$(s)"
      ],
      "text/plain": [
       "<IPython.core.display.Latex object>"
      ]
     },
     "metadata": {},
     "output_type": "display_data"
    },
    {
     "data": {
      "text/latex": [
       "#4-8 $\\,Co^{2+}$(aq) + $2SCN^{{-}}$(aq) $\\rightarrow$ $Co_\\,SCN_2$(s)"
      ],
      "text/plain": [
       "<IPython.core.display.Latex object>"
      ]
     },
     "metadata": {},
     "output_type": "display_data"
    },
    {
     "data": {
      "text/latex": [
       "#4-9 $\\,Co^{2+}$(aq) + $2OH^{{-}}$(aq) $\\rightarrow$ $Co_\\,OH_2$(s)"
      ],
      "text/plain": [
       "<IPython.core.display.Latex object>"
      ]
     },
     "metadata": {},
     "output_type": "display_data"
    },
    {
     "name": "stdout",
     "output_type": "stream",
     "text": [
      "#4-11 Cation: Co, Anion: NH3 - Redox\n"
     ]
    },
    {
     "data": {
      "text/latex": [
       "#4-12 $\\,Co^{2+}$(aq) + $\\,CO3^{{2-}}$(aq) $\\rightarrow$ $Co_\\,CO3_\\,$(s)"
      ],
      "text/plain": [
       "<IPython.core.display.Latex object>"
      ]
     },
     "metadata": {},
     "output_type": "display_data"
    },
    {
     "data": {
      "text/latex": [
       "#4-14 $\\,Co^{2+}$(aq) + $\\,SO4^{{2-}}$(aq) $\\rightarrow$ $Co_\\,SO4_\\,$(s)"
      ],
      "text/plain": [
       "<IPython.core.display.Latex object>"
      ]
     },
     "metadata": {},
     "output_type": "display_data"
    },
    {
     "data": {
      "text/latex": [
       "#5-8 $\\,Cu^{2+}$(aq) + $2SCN^{{-}}$(aq) $\\rightarrow$ $Cu_\\,SCN_2$(s)"
      ],
      "text/plain": [
       "<IPython.core.display.Latex object>"
      ]
     },
     "metadata": {},
     "output_type": "display_data"
    },
    {
     "data": {
      "text/latex": [
       "#5-9 $\\,Cu^{2+}$(aq) + $2OH^{{-}}$(aq) $\\rightarrow$ $Cu_\\,OH_2$(s)"
      ],
      "text/plain": [
       "<IPython.core.display.Latex object>"
      ]
     },
     "metadata": {},
     "output_type": "display_data"
    },
    {
     "name": "stdout",
     "output_type": "stream",
     "text": [
      "#5-11 Cation: Cu, Anion: NH3 - Redox\n"
     ]
    },
    {
     "data": {
      "text/latex": [
       "#5-12 $\\,Cu^{2+}$(aq) + $\\,CO3^{{2-}}$(aq) $\\rightarrow$ $Cu_\\,CO3_\\,$(s)"
      ],
      "text/plain": [
       "<IPython.core.display.Latex object>"
      ]
     },
     "metadata": {},
     "output_type": "display_data"
    },
    {
     "data": {
      "text/latex": [
       "#5-13 $\\,Sr^{2+}$(aq) + $\\,SO4^{{2-}}$(aq) $\\rightarrow$ $Sr_\\,SO4_\\,$(s)"
      ],
      "text/plain": [
       "<IPython.core.display.Latex object>"
      ]
     },
     "metadata": {},
     "output_type": "display_data"
    },
    {
     "data": {
      "text/latex": [
       "#6-9 $\\,Fe^{3+}$(aq) + $3OH^{{-}}$(aq) $\\rightarrow$ $Fe_\\,OH_3$(s)"
      ],
      "text/plain": [
       "<IPython.core.display.Latex object>"
      ]
     },
     "metadata": {},
     "output_type": "display_data"
    },
    {
     "name": "stdout",
     "output_type": "stream",
     "text": [
      "#6-11 Cation: Fe, Anion: NH3 - Redox\n"
     ]
    },
    {
     "data": {
      "text/latex": [
       "#6-12 $2Fe^{3+}$(aq) + $3CO3^{{2-}}$(aq) $\\rightarrow$ $Fe_2CO3_3$(s)"
      ],
      "text/plain": [
       "<IPython.core.display.Latex object>"
      ]
     },
     "metadata": {},
     "output_type": "display_data"
    },
    {
     "data": {
      "text/latex": [
       "#7-13 $\\,Sr^{2+}$(aq) + $\\,SO4^{{2-}}$(aq) $\\rightarrow$ $Sr_\\,SO4_\\,$(s)"
      ],
      "text/plain": [
       "<IPython.core.display.Latex object>"
      ]
     },
     "metadata": {},
     "output_type": "display_data"
    },
    {
     "data": {
      "text/latex": [
       "#9-10 $\\,Al^{3+}$(aq) + $3OH^{{-}}$(aq) $\\rightarrow$ $Al_\\,OH_3$(s)"
      ],
      "text/plain": [
       "<IPython.core.display.Latex object>"
      ]
     },
     "metadata": {},
     "output_type": "display_data"
    },
    {
     "data": {
      "text/latex": [
       "#9-14 $\\,Mg^{2+}$(aq) + $2OH^{{-}}$(aq) $\\rightarrow$ $Mg_\\,OH_2$(s)"
      ],
      "text/plain": [
       "<IPython.core.display.Latex object>"
      ]
     },
     "metadata": {},
     "output_type": "display_data"
    },
    {
     "name": "stdout",
     "output_type": "stream",
     "text": [
      "\n",
      "            Acidicity Expect -1 for #9 AlNO3, got 0\n",
      "            Acid Cation: False Basic Cation False\n",
      "            Acid Anion: False Basic Anion: False\n",
      "            \n",
      "#10-11 Cation: Al, Anion: NH3 - Redox\n"
     ]
    },
    {
     "data": {
      "text/latex": [
       "#12-13 $\\,Sr^{2+}$(aq) + $\\,CO3^{{2-}}$(aq) $\\rightarrow$ $Sr_\\,CO3_\\,$(s)"
      ],
      "text/plain": [
       "<IPython.core.display.Latex object>"
      ]
     },
     "metadata": {},
     "output_type": "display_data"
    },
    {
     "data": {
      "text/latex": [
       "#12-14 $\\,Mg^{2+}$(aq) + $\\,CO3^{{2-}}$(aq) $\\rightarrow$ $Mg_\\,CO3_\\,$(s)"
      ],
      "text/plain": [
       "<IPython.core.display.Latex object>"
      ]
     },
     "metadata": {},
     "output_type": "display_data"
    },
    {
     "data": {
      "text/latex": [
       "#13-14 $\\,Sr^{2+}$(aq) + $\\,SO4^{{2-}}$(aq) $\\rightarrow$ $Sr_\\,SO4_\\,$(s)"
      ],
      "text/plain": [
       "<IPython.core.display.Latex object>"
      ]
     },
     "metadata": {},
     "output_type": "display_data"
    },
    {
     "name": "stdout",
     "output_type": "stream",
     "text": [
      "\n",
      "            Acidicity Expect 0 for #13 MgSO4, got 1\n",
      "            Acid Cation: True Basic Cation False\n",
      "            Acid Anion: False Basic Anion: False\n",
      "            \n",
      "final_score=12, fit_acidicity=10, fit_reaction=69\n",
      "[[b'#' b'#' b'#' b'#' b'#' b'#' b'#' b'#' b'#' b'#' b'#' b'#' b'#' b'#']\n",
      " [b'_' b'#' b'#' b'#' b'#' b'#' b'#' b'#' b'#' b'#' b'#' b'#' b'#' b'#']\n",
      " [b'X' b'_' b'#' b'#' b'#' b'#' b'#' b'#' b'#' b'#' b'#' b'#' b'#' b'#']\n",
      " [b'0' b'_' b'_' b'#' b'#' b'#' b'#' b'#' b'#' b'#' b'#' b'#' b'#' b'#']\n",
      " [b'0' b'_' b'*' b'0' b'#' b'#' b'#' b'#' b'#' b'#' b'#' b'#' b'#' b'#']\n",
      " [b'*' b'_' b'_' b'_' b'_' b'#' b'#' b'#' b'#' b'#' b'#' b'#' b'#' b'#']\n",
      " [b'*' b'_' b'0' b'0' b'_' b'_' b'#' b'#' b'#' b'#' b'#' b'#' b'#' b'#']\n",
      " [b'*' b'_' b'0' b'0' b'0' b'_' b'_' b'#' b'#' b'#' b'#' b'#' b'#' b'#']\n",
      " [b'*' b'*' b'X' b'*' b'*' b'*' b'_' b'_' b'#' b'#' b'#' b'#' b'#' b'#']\n",
      " [b'_' b'_' b'X' b'_' b'_' b'_' b'_' b'_' b'*' b'#' b'#' b'#' b'#' b'#']\n",
      " [b'0' b'*' b'X' b'*' b'0' b'*' b'_' b'_' b'_' b'*' b'#' b'#' b'#' b'#']\n",
      " [b'*' b'*' b'*' b'*' b'*' b'*' b'_' b'_' b'_' b'X' b'_' b'#' b'#' b'#']\n",
      " [b'*' b'_' b'_' b'_' b'*' b'_' b'0' b'_' b'X' b'X' b'_' b'*' b'#' b'#']\n",
      " [b'0' b'_' b'0' b'*' b'_' b'_' b'_' b'_' b'*' b'X' b'_' b'*' b'0' b'#']]\n"
     ]
    }
   ],
   "source": [
    "print(\"The Probability of finding the global min: {}\".format(1-((10*9*8*7*6*5*4**3*2-1)/(10*9*8*7*6*5*4**3*2))**(10*9*8*7*6*5*4**3*2)))\n",
    "# known_cations = [None, None, None, \"Co\", \"Cu\", \"Fe\", None, None, None, None, None, \"Na\", None, None]\n",
    "known_cations = [None, None, \"Ba\", \"Co\", \"Cu\", \"Fe\", None, None, None, None, None, None, None, None] #fix flame test\n",
    "iteration = 10000000\n",
    "best_score = -99999\n",
    "best_table = None\n",
    "real_score = -99999\n",
    "real_table = None\n",
    "lr = 0.4\n",
    "no_progress = 0\n",
    "pbar = tqdm(range(iteration))\n",
    "print(\"['00', '01', '02', '03', '04', '05', '06', '07', '08', '09', '10', '11', '12', '13'] |-00->00->00\")\n",
    "try:\n",
    "    for i in pbar:\n",
    "        if no_progress>7000:\n",
    "            if best_score>real_score:\n",
    "                real_table = best_table\n",
    "                real_score = best_score\n",
    "            lr = 0.8\n",
    "            best_score = -99999\n",
    "        updated_table = None\n",
    "        if best_table != None:\n",
    "            updated_table = UpdateTable(best_table, known_cations, update_cations=True, update_anions=False, fix_pairs=True, lr=lr)\n",
    "        else:\n",
    "            updated_table = generate_table_from_fixed_pairs(known_cations)\n",
    "\n",
    "    #     updated_table_keys = list(updated_table.keys())\n",
    "    #     updated_table_values = list(updated_table.values())\n",
    "\n",
    "    #     if (\n",
    "    #         updated_table_keys[2] != \"Ba\" or\n",
    "    #         updated_table_keys[3] != \"Co\" or\n",
    "    #         updated_table_keys[4] != \"Cu\" or\n",
    "    #         updated_table_keys[5] != \"Fe\" or\n",
    "    #         updated_table_keys[11] != \"Na\" or\n",
    "    #         updated_table_values[11] != \"OH\"\n",
    "    #     ):\n",
    "    #         continue\n",
    "    #     print(\"Table: {}\".format(updated_table))\n",
    "\n",
    "    #     updated_table_keys = ['Al', 'Mg', 'Ba', 'Co', 'Cu', 'Fe', 'H', 'Sr', 'Zn', 'NH3', 'K', 'Na', 'Ag', 'Li']\n",
    "    #     updated_table_values[11] == \"OH\"\n",
    "    #     updated_table = dict(zip(updated_table_keys, updated_table_values))\n",
    "        score, table, fit_acidicity, fit_reaction = calculateScore(updated_table)\n",
    "    #     pbar.set_description(\"{:.2f}|{}/{}\".format(lr, score, real_score))\n",
    "        if score > best_score:\n",
    "            no_progress=0\n",
    "            lr = max(lr - lr*0.1, 1/14)\n",
    "            pbar.set_description(\"{:.2f}|{}/{}\".format(lr, best_score, real_score))\n",
    "            if score == real_score:\n",
    "                print(\"{} |{}->{}->{}\".format(list(table.keys()), score, fit_acidicity, fit_reaction))\n",
    "            best_score = score\n",
    "            best_table = table\n",
    "        else:\n",
    "            no_progress = no_progress+1\n",
    "except KeyboardInterrupt as e:\n",
    "    print(\"\"\"\n",
    "    real_score={}\n",
    "    {}\n",
    "    {}\n",
    "    \"\"\".format(real_score, list(real_table.keys()), list(real_table.values())))\n",
    "    evaluate_table(real_table)"
   ]
  },
  {
   "cell_type": "raw",
   "metadata": {},
   "source": [
    "\"\"\"\n",
    "My\n",
    "{'Al': 'SO4',\n",
    " 'Mg': 'NO3',\n",
    " 'Ba': 'NO3',\n",
    " 'Co': 'NO3',\n",
    " 'Cu': 'Cl',\n",
    " 'Fe': 'NO3',\n",
    " 'H': 'OH',\n",
    " 'Sr': 'NO3',\n",
    " 'Zn': 'SCN',\n",
    " 'NH3': 'Cl',\n",
    " 'K': 'CO3',\n",
    " 'Na': 'OH',\n",
    " 'Ag': 'NO3',\n",
    " 'Li': 'NO3'}\n",
    "-----\n",
    "\n",
    "\"\"\"\n",
    "\"\"\"\n",
    "When Freezing Co and Cu\n",
    "['Ba', 'Zn', 'Mg', 'Co', 'Cu', 'Al', 'H', 'Sr', 'Na', 'Ag', 'Li', 'NH3', 'Fe', 'K'] |-91->8->70\n",
    "['Ba', 'Zn', 'Mg', 'Co', 'Cu', 'Al', 'H', 'K', 'Na', 'Ag', 'Li', 'NH3', 'Sr', 'Fe'] |-91->8->70\n",
    "['Ba', 'Zn', 'Mg', 'Co', 'Cu', 'Al', 'H', 'K', 'Na', 'Ag', 'Li', 'NH3', 'Sr', 'Fe'] |-91->8->70\n",
    "['Ba', 'Zn', 'Mg', 'Co', 'Cu', 'Al', 'K', 'H', 'Na', 'Ag', 'Li', 'NH3', 'Sr', 'Fe'] |-91->8->70\n",
    "['Ba', 'Zn', 'Mg', 'Co', 'Cu', 'Al', 'K', 'H', 'Na', 'Ag', 'Li', 'NH3', 'Sr', 'Fe'] |-91->8->70\n",
    "['Ba', 'Zn', 'Mg', 'Co', 'Cu', 'Al', 'K', 'H', 'Na', 'Ag', 'Li', 'NH3', 'Sr', 'Fe'] |-91->8->70\n",
    "['Ba', 'Zn', 'Mg', 'Co', 'Cu', 'Al', 'K', 'H', 'Na', 'Ag', 'Li', 'NH3', 'Sr', 'Fe'] |-91->8->70\n",
    "['Ag', 'Zn', 'H', 'Co', 'Cu', 'Fe', 'K', 'Sr', 'Na', 'Ba', 'NH3', 'Li', 'Al', 'Mg'] |-91->7->70\n",
    "['Ba', 'Zn', 'Sr', 'Co', 'Cu', 'Al', 'K', 'H', 'Na', 'Ag', 'NH3', 'Li', 'Fe', 'Mg'] |-91->8->70\n",
    "['Ba', 'Zn', 'Mg', 'Co', 'Cu', 'Al', 'K', 'H', 'Na', 'Ag', 'Li', 'NH3', 'Fe', 'Sr'] |-91->8->70\n",
    "['Ba', 'Zn', 'Sr', 'Co', 'Cu', 'Al', 'K', 'H', 'Na', 'Ag', 'NH3', 'Li', 'Fe', 'Mg'] |-91->8->70\n",
    "['Ag', 'Zn', 'H', 'Co', 'Cu', 'Fe', 'K', 'Sr', 'Na', 'Ba', 'NH3', 'Li', 'Al', 'Mg'] |-91->7->70\n",
    "['Ag', 'Zn', 'H', 'Co', 'Cu', 'Fe', 'K', 'Sr', 'Li', 'Ba', 'NH3', 'Na', 'Al', 'Mg'] |-91->7->70\n",
    "['Ag', 'Zn', 'H', 'Co', 'Cu', 'Fe', 'K', 'Sr', 'Li', 'Ba', 'NH3', 'Na', 'Al', 'Mg'] |-91->7->70\n",
    "['Ag', 'Zn', 'Sr', 'Co', 'Cu', 'Fe', 'K', 'H', 'Li', 'Mg', 'Na', 'NH3', 'Ba', 'Al'] |-91->8->70\n",
    "['Ag', 'Zn', 'Sr', 'Co', 'Cu', 'Fe', 'K', 'H', 'Li', 'Mg', 'Na', 'NH3', 'Ba', 'Al'] |-91->8->70\n",
    "['Ba', 'Zn', 'Mg', 'Co', 'Cu', 'Al', 'K', 'Sr', 'Na', 'Ag', 'Li', 'NH3', 'Fe', 'H'] |-91->8->70\n",
    "['Ba', 'Zn', 'Mg', 'Co', 'Cu', 'Al', 'K', 'H', 'Na', 'Ag', 'Li', 'NH3', 'Sr', 'Fe'] |-91->8->70\n",
    "['Ba', 'Zn', 'Mg', 'Co', 'Cu', 'Al', 'K', 'H', 'Na', 'Ag', 'Li', 'NH3', 'Fe', 'Sr'] |-91->8->70\n",
    "['Ba', 'Zn', 'Mg', 'Co', 'Cu', 'Al', 'K', 'H', 'Na', 'Ag', 'Li', 'NH3', 'Fe', 'Sr'] |-91->8->70\n",
    "['Ag', 'Zn', 'Mg', 'Co', 'Cu', 'Fe', 'H', 'Sr', 'Na', 'Ba', 'Li', 'NH3', 'Al', 'K'] |-91->7->70\n",
    "['Ba', 'Zn', 'Mg', 'Co', 'Cu', 'Al', 'H', 'K', 'Na', 'Ag', 'Li', 'NH3', 'Fe', 'Sr'] |-91->8->70\n",
    "['Ba', 'Zn', 'Mg', 'Co', 'Cu', 'Al', 'H', 'K', 'Na', 'Ag', 'Li', 'NH3', 'Fe', 'Sr'] |-91->8->70\n",
    "['Ag', 'Zn', 'Mg', 'Co', 'Cu', 'Fe', 'K', 'Sr', 'Na', 'Ba', 'Li', 'NH3', 'Al', 'H'] |-91->7->70\n",
    "['Ba', 'Zn', 'Mg', 'Co', 'Cu', 'Al', 'H', 'Sr', 'Na', 'Ag', 'Li', 'NH3', 'Fe', 'K'] |-91->8->70\n",
    "['Ba', 'Zn', 'Mg', 'Co', 'Cu', 'Al', 'H', 'Sr', 'Na', 'Ag', 'Li', 'NH3', 'Fe', 'K'] |-91->8->70\n",
    "= When freezing Cu\n",
    "['Ag', 'Co', 'Sr', 'Zn', 'Cu', 'Fe', 'K', 'H', 'Li', 'Mg', 'Na', 'NH3', 'Ba', 'Al'] |-87->8->72\n",
    "['Ag', 'Zn', 'Sr', 'Al', 'Cu', 'Fe', 'K', 'H', 'Na', 'Mg', 'NH3', 'Li', 'Co', 'Ba'] |-87->8->72\n",
    "['Ag', 'Zn', 'Sr', 'Al', 'Cu', 'Fe', 'K', 'H', 'Na', 'Mg', 'Li', 'NH3', 'Co', 'Ba'] |-87->8->72\n",
    "['Ag', 'Zn', 'Sr', 'Al', 'Cu', 'Fe', 'K', 'H', 'Na', 'Mg', 'NH3', 'Li', 'Co', 'Ba'] |-87->8->72\n",
    "['Ag', 'Zn', 'Sr', 'Al', 'Cu', 'Fe', 'K', 'H', 'Na', 'Mg', 'Li', 'NH3', 'Co', 'Ba'] |-87->8->72\n",
    "['Ag', 'Zn', 'Sr', 'Al', 'Cu', 'Fe', 'K', 'H', 'Na', 'Mg', 'NH3', 'Li', 'Co', 'Ba'] |-87->8->72\n",
    "['Ag', 'Zn', 'Sr', 'Al', 'Cu', 'Fe', 'K', 'H', 'Na', 'Mg', 'Li', 'NH3', 'Co', 'Ba'] |-87->8->72\n",
    "['Ag', 'Zn', 'Sr', 'Al', 'Cu', 'Fe', 'K', 'H', 'Na', 'Mg', 'Li', 'NH3', 'Co', 'Ba'] |-87->8->72\n",
    "['Ag', 'Zn', 'Sr', 'Al', 'Cu', 'Fe', 'K', 'H', 'Na', 'Mg', 'Li', 'NH3', 'Co', 'Ba'] |-87->8->72\n",
    "['Ag', 'Co', 'Sr', 'Zn', 'Cu', 'Fe', 'K', 'H', 'NH3', 'Mg', 'Na', 'Li', 'Ba', 'Al'] |-87->8->72\n",
    "['Ag', 'Co', 'Sr', 'Zn', 'Cu', 'Fe', 'K', 'H', 'NH3', 'Mg', 'Na', 'Li', 'Ba', 'Al'] |-87->8->72\n",
    "['Ag', 'Zn', 'Sr', 'Al', 'Cu', 'Fe', 'K', 'H', 'Na', 'Mg', 'Li', 'NH3', 'Co', 'Ba'] |-87->8->72\n",
    "['Ag', 'Co', 'Sr', 'Zn', 'Cu', 'Fe', 'K', 'H', 'Li', 'Mg', 'Na', 'NH3', 'Ba', 'Al'] |-87->8->72\n",
    "['Ag', 'Co', 'Sr', 'Zn', 'Cu', 'Fe', 'K', 'H', 'Li', 'Mg', 'Na', 'NH3', 'Ba', 'Al'] |-87->8->72\n",
    "['Ag', 'Co', 'Sr', 'Zn', 'Cu', 'Fe', 'K', 'H', 'NH3', 'Mg', 'Na', 'Li', 'Ba', 'Al'] |-87->8->72\n",
    "['Ag', 'Co', 'Sr', 'Zn', 'Cu', 'Fe', 'K', 'H', 'NH3', 'Mg', 'Na', 'Li', 'Ba', 'Al'] |-87->8->72\n",
    "['Ag', 'Zn', 'Sr', 'Al', 'Cu', 'Fe', 'K', 'H', 'Na', 'Mg', 'NH3', 'Li', 'Co', 'Ba'] |-87->8->72\n",
    "['Ag', 'Zn', 'Sr', 'Al', 'Cu', 'Fe', 'K', 'H', 'Na', 'Mg', 'NH3', 'Li', 'Co', 'Ba'] |-87->8->72\n",
    "['Ag', 'Co', 'Sr', 'Zn', 'Cu', 'Fe', 'K', 'H', 'NH3', 'Mg', 'Na', 'Li', 'Ba', 'Al'] |-87->8->72\n",
    "['Ag', 'Zn', 'Sr', 'Al', 'Cu', 'Fe', 'K', 'H', 'Na', 'Mg', 'NH3', 'Li', 'Co', 'Ba'] |-87->8->72\n",
    "['Ag', 'Zn', 'Sr', 'Al', 'Cu', 'Fe', 'K', 'H', 'Na', 'Mg', 'Li', 'NH3', 'Co', 'Ba'] |-87->8->72\n",
    "['Ag', 'Zn', 'Sr', 'Al', 'Cu', 'Fe', 'K', 'H', 'Na', 'Mg', 'NH3', 'Li', 'Co', 'Ba'] |-87->8->72\n",
    "['Ag', 'Co', 'Sr', 'Zn', 'Cu', 'Fe', 'K', 'H', 'Li', 'Mg', 'Na', 'NH3', 'Ba', 'Al'] |-87->8->72\n",
    "['Ag', 'Zn', 'Sr', 'Al', 'Cu', 'Fe', 'K', 'H', 'Na', 'Mg', 'Li', 'NH3', 'Co', 'Ba'] |-87->8->72\n",
    "['Ag', 'Zn', 'Sr', 'Al', 'Cu', 'Fe', 'K', 'H', 'Na', 'Mg', 'Li', 'NH3', 'Co', 'Ba'] |-87->8->72\n",
    "['Ag', 'Zn', 'Sr', 'Al', 'Cu', 'Fe', 'K', 'H', 'Na', 'Mg', 'Li', 'NH3', 'Co', 'Ba'] |-87->8->72\n",
    "['Ag', 'Zn', 'Sr', 'Al', 'Cu', 'Fe', 'K', 'H', 'Na', 'Mg', 'Li', 'NH3', 'Co', 'Ba'] |-87->8->72\n",
    "['Ag', 'Co', 'Sr', 'Zn', 'Cu', 'Fe', 'K', 'H', 'NH3', 'Mg', 'Na', 'Li', 'Ba', 'Al'] |-87->8->72\n",
    "\n",
    "['Ag', 'Zn', 'Mg', 'Co', 'Cu', 'Fe', 'H', 'Sr', 'Li', 'Ba', 'Na', 'NH3', 'Al', 'K'] |-31->10->70\n",
    "['Ag', 'Zn', 'Mg', 'Co', 'Cu', 'Fe', 'H', 'Sr', 'Na', 'Ba', 'Li', 'NH3', 'Al', 'K'] |-31->10->70\n",
    "['Ag', 'Co', 'Mg', 'Zn', 'Cu', 'Fe', 'H', 'Sr', 'Li', 'Ba', 'Na', 'NH3', 'K', 'Al'] |-31->10->70\n",
    "['Ag', 'Co', 'Mg', 'Zn', 'Cu', 'Fe', 'H', 'Sr', 'Li', 'Ba', 'Na', 'NH3', 'K', 'Al'] |-31->10->70\n",
    "['Ag', 'Co', 'Mg', 'Zn', 'Cu', 'Fe', 'H', 'Sr', 'Li', 'Ba', 'Na', 'NH3', 'K', 'Al'] |-31->10->70\n",
    "['Ag', 'Co', 'Mg', 'Zn', 'Cu', 'Fe', 'H', 'Sr', 'Li', 'Ba', 'Na', 'NH3', 'K', 'Al'] |-31->10->70\n",
    "['Ag', 'Co', 'Mg', 'Zn', 'Cu', 'Fe', 'H', 'Sr', 'Li', 'Ba', 'Na', 'NH3', 'K', 'Al'] |-31->10->70\n",
    "['Ag', 'Zn', 'Mg', 'Co', 'Cu', 'Fe', 'H', 'Sr', 'Li', 'Ba', 'Na', 'NH3', 'Al', 'K'] |-31->10->70\n",
    "\"\"\""
   ]
  },
  {
   "cell_type": "code",
   "execution_count": 6,
   "metadata": {},
   "outputs": [
    {
     "name": "stdout",
     "output_type": "stream",
     "text": [
      "\n",
      "            Acidicity Expect 0 for #0 AgNO3, got 1\n",
      "            Acid Cation: True Basic Cation False\n",
      "            Acid Anion: False Basic Anion: False\n",
      "            \n"
     ]
    },
    {
     "data": {
      "text/latex": [
       "#1-4 $\\,Ag^{+}$(aq) + $\\,Cl^{{-}}$(aq) $\\rightarrow$ $Ag_\\,Cl_\\,$(s)"
      ],
      "text/plain": [
       "<IPython.core.display.Latex object>"
      ]
     },
     "metadata": {},
     "output_type": "display_data"
    },
    {
     "data": {
      "text/latex": [
       "#1-6 $\\,Ag^{+}$(aq) + $\\,Cl^{{-}}$(aq) $\\rightarrow$ $Ag_\\,Cl_\\,$(s)"
      ],
      "text/plain": [
       "<IPython.core.display.Latex object>"
      ]
     },
     "metadata": {},
     "output_type": "display_data"
    },
    {
     "name": "stdout",
     "output_type": "stream",
     "text": [
      "#1-11 Cation: Ag, Anion: NH3 - Redox\n"
     ]
    },
    {
     "data": {
      "text/latex": [
       "#1-12 $2Ag^{+}$(aq) + $\\,CO3^{{2-}}$(aq) $\\rightarrow$ $Ag_2CO3_\\,$(s)"
      ],
      "text/plain": [
       "<IPython.core.display.Latex object>"
      ]
     },
     "metadata": {},
     "output_type": "display_data"
    },
    {
     "data": {
      "text/latex": [
       "#1-13 $\\,Ag^{+}$(aq) + $\\,Cl^{{-}}$(aq) $\\rightarrow$ $Ag_\\,Cl_\\,$(s)"
      ],
      "text/plain": [
       "<IPython.core.display.Latex object>"
      ]
     },
     "metadata": {},
     "output_type": "display_data"
    },
    {
     "data": {
      "text/latex": [
       "#2-9 $\\,Zn^{2+}$(aq) + $2OH^{{-}}$(aq) $\\rightarrow$ $Zn_\\,OH_2$(s)"
      ],
      "text/plain": [
       "<IPython.core.display.Latex object>"
      ]
     },
     "metadata": {},
     "output_type": "display_data"
    },
    {
     "name": "stdout",
     "output_type": "stream",
     "text": [
      "#2-11 Cation: Zn, Anion: NH3 - Redox\n"
     ]
    },
    {
     "data": {
      "text/latex": [
       "#2-12 $\\,Zn^{2+}$(aq) + $\\,CO3^{{2-}}$(aq) $\\rightarrow$ $Zn_\\,CO3_\\,$(s)"
      ],
      "text/plain": [
       "<IPython.core.display.Latex object>"
      ]
     },
     "metadata": {},
     "output_type": "display_data"
    },
    {
     "name": "stdout",
     "output_type": "stream",
     "text": [
      "\n",
      "            Acidicity Expect 1 for #2 BaNO3, got 0\n",
      "            Acid Cation: False Basic Cation False\n",
      "            Acid Anion: False Basic Anion: False\n",
      "            \n"
     ]
    },
    {
     "data": {
      "text/latex": [
       "#3-5 $\\,Ba^{2+}$(aq) + $\\,SO4^{{2-}}$(aq) $\\rightarrow$ $Ba_\\,SO4_\\,$(s)"
      ],
      "text/plain": [
       "<IPython.core.display.Latex object>"
      ]
     },
     "metadata": {},
     "output_type": "display_data"
    },
    {
     "data": {
      "text/latex": [
       "#3-7 $\\,Ba^{2+}$(aq) + $\\,SO4^{{2-}}$(aq) $\\rightarrow$ $Ba_\\,SO4_\\,$(s)"
      ],
      "text/plain": [
       "<IPython.core.display.Latex object>"
      ]
     },
     "metadata": {},
     "output_type": "display_data"
    },
    {
     "data": {
      "text/latex": [
       "#3-8 $\\,Ba^{2+}$(aq) + $2SCN^{{-}}$(aq) $\\rightarrow$ $Ba_\\,SCN_2$(s)"
      ],
      "text/plain": [
       "<IPython.core.display.Latex object>"
      ]
     },
     "metadata": {},
     "output_type": "display_data"
    },
    {
     "data": {
      "text/latex": [
       "#3-12 $\\,Ba^{2+}$(aq) + $\\,CO3^{{2-}}$(aq) $\\rightarrow$ $Ba_\\,CO3_\\,$(s)"
      ],
      "text/plain": [
       "<IPython.core.display.Latex object>"
      ]
     },
     "metadata": {},
     "output_type": "display_data"
    },
    {
     "data": {
      "text/latex": [
       "#3-14 $\\,Ba^{2+}$(aq) + $\\,SO4^{{2-}}$(aq) $\\rightarrow$ $Ba_\\,SO4_\\,$(s)"
      ],
      "text/plain": [
       "<IPython.core.display.Latex object>"
      ]
     },
     "metadata": {},
     "output_type": "display_data"
    },
    {
     "data": {
      "text/latex": [
       "#4-5 $\\,Co^{2+}$(aq) + $\\,SO4^{{2-}}$(aq) $\\rightarrow$ $Co_\\,SO4_\\,$(s)"
      ],
      "text/plain": [
       "<IPython.core.display.Latex object>"
      ]
     },
     "metadata": {},
     "output_type": "display_data"
    },
    {
     "data": {
      "text/latex": [
       "#4-7 $\\,Co^{2+}$(aq) + $\\,SO4^{{2-}}$(aq) $\\rightarrow$ $Co_\\,SO4_\\,$(s)"
      ],
      "text/plain": [
       "<IPython.core.display.Latex object>"
      ]
     },
     "metadata": {},
     "output_type": "display_data"
    },
    {
     "data": {
      "text/latex": [
       "#4-8 $\\,Co^{2+}$(aq) + $2SCN^{{-}}$(aq) $\\rightarrow$ $Co_\\,SCN_2$(s)"
      ],
      "text/plain": [
       "<IPython.core.display.Latex object>"
      ]
     },
     "metadata": {},
     "output_type": "display_data"
    },
    {
     "data": {
      "text/latex": [
       "#4-9 $\\,Co^{2+}$(aq) + $2OH^{{-}}$(aq) $\\rightarrow$ $Co_\\,OH_2$(s)"
      ],
      "text/plain": [
       "<IPython.core.display.Latex object>"
      ]
     },
     "metadata": {},
     "output_type": "display_data"
    },
    {
     "name": "stdout",
     "output_type": "stream",
     "text": [
      "#4-11 Cation: Co, Anion: NH3 - Redox\n"
     ]
    },
    {
     "data": {
      "text/latex": [
       "#4-12 $\\,Co^{2+}$(aq) + $\\,CO3^{{2-}}$(aq) $\\rightarrow$ $Co_\\,CO3_\\,$(s)"
      ],
      "text/plain": [
       "<IPython.core.display.Latex object>"
      ]
     },
     "metadata": {},
     "output_type": "display_data"
    },
    {
     "data": {
      "text/latex": [
       "#4-14 $\\,Co^{2+}$(aq) + $\\,SO4^{{2-}}$(aq) $\\rightarrow$ $Co_\\,SO4_\\,$(s)"
      ],
      "text/plain": [
       "<IPython.core.display.Latex object>"
      ]
     },
     "metadata": {},
     "output_type": "display_data"
    },
    {
     "data": {
      "text/latex": [
       "#5-8 $\\,Cu^{2+}$(aq) + $2SCN^{{-}}$(aq) $\\rightarrow$ $Cu_\\,SCN_2$(s)"
      ],
      "text/plain": [
       "<IPython.core.display.Latex object>"
      ]
     },
     "metadata": {},
     "output_type": "display_data"
    },
    {
     "data": {
      "text/latex": [
       "#5-9 $\\,Cu^{2+}$(aq) + $2OH^{{-}}$(aq) $\\rightarrow$ $Cu_\\,OH_2$(s)"
      ],
      "text/plain": [
       "<IPython.core.display.Latex object>"
      ]
     },
     "metadata": {},
     "output_type": "display_data"
    },
    {
     "name": "stdout",
     "output_type": "stream",
     "text": [
      "#5-11 Cation: Cu, Anion: NH3 - Redox\n"
     ]
    },
    {
     "data": {
      "text/latex": [
       "#5-12 $\\,Cu^{2+}$(aq) + $\\,CO3^{{2-}}$(aq) $\\rightarrow$ $Cu_\\,CO3_\\,$(s)"
      ],
      "text/plain": [
       "<IPython.core.display.Latex object>"
      ]
     },
     "metadata": {},
     "output_type": "display_data"
    },
    {
     "data": {
      "text/latex": [
       "#5-13 $\\,Sr^{2+}$(aq) + $\\,SO4^{{2-}}$(aq) $\\rightarrow$ $Sr_\\,SO4_\\,$(s)"
      ],
      "text/plain": [
       "<IPython.core.display.Latex object>"
      ]
     },
     "metadata": {},
     "output_type": "display_data"
    },
    {
     "data": {
      "text/latex": [
       "#6-9 $\\,Fe^{3+}$(aq) + $3OH^{{-}}$(aq) $\\rightarrow$ $Fe_\\,OH_3$(s)"
      ],
      "text/plain": [
       "<IPython.core.display.Latex object>"
      ]
     },
     "metadata": {},
     "output_type": "display_data"
    },
    {
     "name": "stdout",
     "output_type": "stream",
     "text": [
      "#6-11 Cation: Fe, Anion: NH3 - Redox\n"
     ]
    },
    {
     "data": {
      "text/latex": [
       "#6-12 $2Fe^{3+}$(aq) + $3CO3^{{2-}}$(aq) $\\rightarrow$ $Fe_2CO3_3$(s)"
      ],
      "text/plain": [
       "<IPython.core.display.Latex object>"
      ]
     },
     "metadata": {},
     "output_type": "display_data"
    },
    {
     "data": {
      "text/latex": [
       "#7-13 $\\,Sr^{2+}$(aq) + $\\,SO4^{{2-}}$(aq) $\\rightarrow$ $Sr_\\,SO4_\\,$(s)"
      ],
      "text/plain": [
       "<IPython.core.display.Latex object>"
      ]
     },
     "metadata": {},
     "output_type": "display_data"
    },
    {
     "data": {
      "text/latex": [
       "#9-10 $\\,Al^{3+}$(aq) + $3OH^{{-}}$(aq) $\\rightarrow$ $Al_\\,OH_3$(s)"
      ],
      "text/plain": [
       "<IPython.core.display.Latex object>"
      ]
     },
     "metadata": {},
     "output_type": "display_data"
    },
    {
     "data": {
      "text/latex": [
       "#9-14 $\\,Mg^{2+}$(aq) + $2OH^{{-}}$(aq) $\\rightarrow$ $Mg_\\,OH_2$(s)"
      ],
      "text/plain": [
       "<IPython.core.display.Latex object>"
      ]
     },
     "metadata": {},
     "output_type": "display_data"
    },
    {
     "name": "stdout",
     "output_type": "stream",
     "text": [
      "\n",
      "            Acidicity Expect -1 for #9 AlNO3, got 0\n",
      "            Acid Cation: False Basic Cation False\n",
      "            Acid Anion: False Basic Anion: False\n",
      "            \n",
      "#10-11 Cation: Al, Anion: NH3 - Redox\n"
     ]
    },
    {
     "data": {
      "text/latex": [
       "#12-13 $\\,Sr^{2+}$(aq) + $\\,CO3^{{2-}}$(aq) $\\rightarrow$ $Sr_\\,CO3_\\,$(s)"
      ],
      "text/plain": [
       "<IPython.core.display.Latex object>"
      ]
     },
     "metadata": {},
     "output_type": "display_data"
    },
    {
     "data": {
      "text/latex": [
       "#12-14 $\\,Mg^{2+}$(aq) + $\\,CO3^{{2-}}$(aq) $\\rightarrow$ $Mg_\\,CO3_\\,$(s)"
      ],
      "text/plain": [
       "<IPython.core.display.Latex object>"
      ]
     },
     "metadata": {},
     "output_type": "display_data"
    },
    {
     "data": {
      "text/latex": [
       "#13-14 $\\,Sr^{2+}$(aq) + $\\,SO4^{{2-}}$(aq) $\\rightarrow$ $Sr_\\,SO4_\\,$(s)"
      ],
      "text/plain": [
       "<IPython.core.display.Latex object>"
      ]
     },
     "metadata": {},
     "output_type": "display_data"
    },
    {
     "name": "stdout",
     "output_type": "stream",
     "text": [
      "\n",
      "            Acidicity Expect 0 for #13 MgSO4, got 1\n",
      "            Acid Cation: True Basic Cation False\n",
      "            Acid Anion: False Basic Anion: False\n",
      "            \n",
      "final_score=12, fit_acidicity=10, fit_reaction=69\n",
      "[[b'#' b'#' b'#' b'#' b'#' b'#' b'#' b'#' b'#' b'#' b'#' b'#' b'#' b'#']\n",
      " [b'_' b'#' b'#' b'#' b'#' b'#' b'#' b'#' b'#' b'#' b'#' b'#' b'#' b'#']\n",
      " [b'X' b'_' b'#' b'#' b'#' b'#' b'#' b'#' b'#' b'#' b'#' b'#' b'#' b'#']\n",
      " [b'0' b'_' b'_' b'#' b'#' b'#' b'#' b'#' b'#' b'#' b'#' b'#' b'#' b'#']\n",
      " [b'0' b'_' b'*' b'0' b'#' b'#' b'#' b'#' b'#' b'#' b'#' b'#' b'#' b'#']\n",
      " [b'*' b'_' b'_' b'_' b'_' b'#' b'#' b'#' b'#' b'#' b'#' b'#' b'#' b'#']\n",
      " [b'*' b'_' b'0' b'0' b'_' b'_' b'#' b'#' b'#' b'#' b'#' b'#' b'#' b'#']\n",
      " [b'*' b'_' b'0' b'0' b'0' b'_' b'_' b'#' b'#' b'#' b'#' b'#' b'#' b'#']\n",
      " [b'*' b'*' b'X' b'*' b'*' b'*' b'_' b'_' b'#' b'#' b'#' b'#' b'#' b'#']\n",
      " [b'_' b'_' b'X' b'_' b'_' b'_' b'_' b'_' b'*' b'#' b'#' b'#' b'#' b'#']\n",
      " [b'0' b'*' b'X' b'*' b'0' b'*' b'_' b'_' b'_' b'*' b'#' b'#' b'#' b'#']\n",
      " [b'*' b'*' b'*' b'*' b'*' b'*' b'_' b'_' b'_' b'X' b'_' b'#' b'#' b'#']\n",
      " [b'*' b'_' b'_' b'_' b'*' b'_' b'0' b'_' b'X' b'X' b'_' b'*' b'#' b'#']\n",
      " [b'0' b'_' b'0' b'*' b'_' b'_' b'_' b'_' b'*' b'X' b'_' b'*' b'0' b'#']]\n"
     ]
    }
   ],
   "source": [
    "# a = ['Ag', 'Co', 'Sr', 'Zn', 'Cu', 'Fe', 'K', 'H', 'Li', 'Mg', 'Na', 'NH3', 'Ba', 'Al']\n",
    "# a = ['Ag', 'Zn', 'Ba', 'Co', 'Cu', 'Fe', 'H', 'K', 'Li', 'Mg', 'Na', 'NH3', 'Sr', 'Al']\n",
    "# a = ['Ag', 'Zn', 'Ba', 'Co', 'Cu', 'Fe', 'H', 'K', 'Li', 'Mg', 'Na', 'NH3', 'Sr', 'Al']\n",
    "a = ['Ag', 'Zn', 'Ba', 'Co', 'Cu', 'Fe', 'H', 'K', 'Li', 'Al', 'NH3', 'Na', 'Sr', 'Mg']\n",
    "evaluate_table(generate_table_from_cations(a))"
   ]
  },
  {
   "cell_type": "code",
   "execution_count": null,
   "metadata": {},
   "outputs": [],
   "source": []
  },
  {
   "cell_type": "code",
   "execution_count": null,
   "metadata": {},
   "outputs": [],
   "source": []
  }
 ],
 "metadata": {
  "kernelspec": {
   "display_name": "Python 3",
   "language": "python",
   "name": "python3"
  },
  "language_info": {
   "codemirror_mode": {
    "name": "ipython",
    "version": 3
   },
   "file_extension": ".py",
   "mimetype": "text/x-python",
   "name": "python",
   "nbconvert_exporter": "python",
   "pygments_lexer": "ipython3",
   "version": "3.6.6"
  }
 },
 "nbformat": 4,
 "nbformat_minor": 2
}
