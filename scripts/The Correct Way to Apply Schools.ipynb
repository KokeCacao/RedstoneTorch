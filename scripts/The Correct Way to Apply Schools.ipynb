{
 "cells": [
  {
   "cell_type": "markdown",
   "metadata": {},
   "source": [
    "# The Correct Way to Apply Schools"
   ]
  },
  {
   "cell_type": "markdown",
   "metadata": {},
   "source": [
    "This Kernel describes the correct way to apply to any schools given limited number of tries. Specifically, it optimizes the best descributions of admission rate to include in your school list. "
   ]
  },
  {
   "cell_type": "code",
   "execution_count": 3,
   "metadata": {},
   "outputs": [],
   "source": [
    "import random\n",
    "import numpy as np\n",
    "import seaborn as sns\n",
    "from tqdm import tqdm_notebook as tqdm\n",
    "from scipy.stats import truncnorm\n",
    "import matplotlib.pyplot as plt\n",
    "\n",
    "def get_truncated_normal(mean=0, sd=1, low=0, upp=10):\n",
    "    return truncnorm(\n",
    "        (low - mean) / sd, (upp - mean) / sd, loc=mean, scale=sd)"
   ]
  },
  {
   "cell_type": "markdown",
   "metadata": {},
   "source": [
    "Firstly, lets assume that we can only apply to 12 schools. We all know the number of schools allowed to apply pretty much determines how \"good\" your school is going to be no matter what. Most schools do have a limit.  \n",
    "\n",
    "Lets look at the distribution if you randomly pick schools from a college list."
   ]
  },
  {
   "cell_type": "code",
   "execution_count": 4,
   "metadata": {},
   "outputs": [
    {
     "data": {
      "text/plain": [
       "<matplotlib.axes._subplots.AxesSubplot at 0x7fb5c615c278>"
      ]
     },
     "execution_count": 4,
     "metadata": {},
     "output_type": "execute_result"
    },
    {
     "data": {
      "image/png": "[encoded data removed]",
      "text/plain": [
       "<Figure size 432x288 with 1 Axes>"
      ]
     },
     "metadata": {
      "needs_background": "light"
     },
     "output_type": "display_data"
    }
   ],
   "source": [
    "n_people = 10000\n",
    "n_choice = 12\n",
    "\n",
    "sample = np.random.uniform(low=0.0, high=1.0, size=n_choice)\n",
    "sns.distplot(sample, bins=50)"
   ]
  },
  {
   "cell_type": "markdown",
   "metadata": {},
   "source": [
    "Here is the main part of the algorithm:\n",
    "\n",
    "**Strategy**\n",
    " - we first generate 12 different schools using a strategy\n",
    " - the goal of this program is to find out the best strategy to choose schools based on your estimation of the probability you can get in.\n",
    " - Most of the institution using uniformly distributed admission rate (eg. 3 safe schools, 3 target schools, 3 reach schools). However, our algorithm does not support this view.\n",
    "\n",
    "**Chance**\n",
    " - We make our first assumption: you have the ability to predict `your_expected_chance` of getting into one college. Note that this variable is not the average admission rate, rather it is your best estimation of your chance given your profile. It is usually hard to predict your actual chance, but please make a prediction as good as you can.\n",
    " - We make our second assumption: we assume that your `happiness` of getting a specific school, or the school's `value` is equal to `1 - your_expected_chance`. Well, for most of the people, this is usually the case. However, if you love a school that is relatively easier than other schools you love, good job. You are lucky! So our algorthm only calculate the worst situration for you.\n",
    " - Your final score, or `happiness` depends only the maximum `value` of the school you got in.\n",
    " - We make our third assumption: the `happiness` of not be able to get accepted in any schools is euqal to the happiness of get accepted by a school with 100% acceptance rate. Seems reasonable, right (if schools like this exist) ?\n",
    "\n",
    "So now, let us look at one student's case:"
   ]
  },
  {
   "cell_type": "code",
   "execution_count": 6,
   "metadata": {},
   "outputs": [
    {
     "name": "stdout",
     "output_type": "stream",
     "text": [
      "Chance: 0.6150162809781982 Evaluation: 0.6227198227857926 Success: 0\n",
      "Chance: 0.3994218905325455 Evaluation: 0.9410392589336949 Success: 0\n",
      "Chance: 0.24559010246246749 Evaluation: 0.5927059698948856 Success: 0\n",
      "Chance: 0.037979285575123645 Evaluation: 0.7356504961319607 Success: 0\n",
      "Chance: 0.29598567461823844 Evaluation: 0.08858884747580043 Success: 1\n",
      "Chance: 0.29614549478315244 Evaluation: 0.6307074908130123 Success: 0\n",
      "Chance: 0.2771871948018205 Evaluation: 0.9343812182505769 Success: 0\n",
      "Chance: 0.6493199936798308 Evaluation: 0.2326586157633832 Success: 1\n",
      "Chance: 0.551911105084907 Evaluation: 0.573019444308581 Success: 0\n",
      "Chance: 0.5815166641168698 Evaluation: 0.5345346540099006 Success: 1\n",
      "Chance: 0.016882657554258995 Evaluation: 0.045638855855870575 Success: 0\n",
      "Chance: 0.3589713278079013 Evaluation: 0.02862799949661976 Success: 1\n",
      "Final happiness = 0.7040143253817616\n"
     ]
    },
    {
     "data": {
      "image/png": "[encoded data removed]",
      "text/plain": [
       "<Figure size 432x288 with 1 Axes>"
      ]
     },
     "metadata": {
      "needs_background": "light"
     },
     "output_type": "display_data"
    }
   ],
   "source": [
    "chance = np.random.uniform(low=0.0, high=1.0, size=n_choice)\n",
    "evaluation = np.random.uniform(low=0.0, high=1.0, size=n_choice)\n",
    "success = (evaluation < (chance)).astype(np.byte)\n",
    "score = np.where(success==1)\n",
    "score = 1-chance[score]\n",
    "sns.distplot(score, bins=50)\n",
    "if len(score) != 0:\n",
    "    score = np.max(score)\n",
    "else:\n",
    "    score = 0\n",
    "for c, e, s in zip(chance, evaluation, success):\n",
    "    print(\"Chance: {} Evaluation: {} Success: {}\".format(c, e, s))\n",
    "print(\"Final happiness = {}\".format(score))"
   ]
  },
  {
   "cell_type": "markdown",
   "metadata": {},
   "source": [
    "# Uniform Distribution\n",
    "Now, let us run the simulation on 10000 students to elimilate the luck that plays in the game."
   ]
  },
  {
   "cell_type": "code",
   "execution_count": null,
   "metadata": {},
   "outputs": [],
   "source": [
    "pbar = tqdm(range(n_people))\n",
    "scores = []\n",
    "for p in pbar:\n",
    "    chance = np.random.uniform(low=0.0, high=1.0, size=n_choice) \n",
    "    evaluation = np.random.uniform(low=0.0, high=1.0, size=n_choice)\n",
    "    success = (evaluation < (chance)).astype(np.byte)\n",
    "    score = np.where(success==1)\n",
    "    score = 1-chance[score]\n",
    "    if len(score) != 0:\n",
    "        score = np.max(score)\n",
    "    else:\n",
    "        score = 0\n",
    "    scores.append(score)\n",
    "#     pbar.set_description(\"{}\".format(score))\n",
    "scores = np.array(scores)\n",
    "print(\"Score: {} STD: {}\".format(scores.mean(), scores.std()))\n",
    "sns.distplot(scores, bins=50)"
   ]
  },
  {
   "cell_type": "markdown",
   "metadata": {},
   "source": [
    "1. Uniform Distribution (0.0 ~ 1.0) Score: 0.6498417210963432 STD: 0.17268462601679235\n",
    "\n",
    "This is the most popular distribution used in school applications. The student above usually ends up with his target school. The admission result is not bad, but definally not good. Do we have a better strategy? Or, which region of normal distribution can give us the best result?"
   ]
  },
  {
   "cell_type": "code",
   "execution_count": 7,
   "metadata": {},
   "outputs": [
    {
     "data": {
      "application/vnd.jupyter.widget-view+json": {
       "model_id": "169ca4e460e44c7b90490b636c7f5399",
       "version_major": 2,
       "version_minor": 0
      },
      "text/plain": [
       "HBox(children=(IntProgress(value=0, max=69), HTML(value='')))"
      ]
     },
     "metadata": {},
     "output_type": "display_data"
    },
    {
     "name": "stdout",
     "output_type": "stream",
     "text": [
      "\n"
     ]
    }
   ],
   "source": [
    "# in uniform distribution, what `high` is the best?\n",
    "scoreses = []\n",
    "stds = []\n",
    "highs = []\n",
    "\n",
    "pbar = tqdm(np.linspace(0.3, 1.0, 70-1))\n",
    "for high in pbar:\n",
    "    scores = []\n",
    "    for p in range(n_people):\n",
    "    #     chance = np.random.uniform(low=0.0, high=1.0, size=n_choice) # Score: 0.6498417210963432 STD: 0.17268462601679235\n",
    "    #     chance = get_truncated_normal(mean=0.5, sd=1, low=0, upp=1).rvs(n_choice) # Score: 0.6520318920635775 STD: 0.16939947534968955\n",
    "    #     chance = np.random.uniform(low=0.0, high=0.1, size=n_choice) # Score: 0.4257803296876376 STD: 0.46683676301815763\n",
    "    #     chance = np.random.uniform(low=0.0, high=0.01, size=n_choice) # Score: 0.060698758035326296 STD: 0.23794155238700707\n",
    "        chance = np.random.uniform(low=0.0, high=high, size=n_choice) # Score: 0.7364615192835041 STD: 0.17269687224170607\n",
    "        evaluation = np.random.uniform(low=0.0, high=1.0, size=n_choice)\n",
    "        success = (evaluation < (chance)).astype(np.byte)\n",
    "        score = np.where(success==1)\n",
    "        score = 1-chance[score]\n",
    "        if len(score) != 0:\n",
    "            score = np.max(score)\n",
    "        else:\n",
    "            score = 0\n",
    "        scores.append(score)\n",
    "    #     pbar.set_description(\"{}\".format(score))\n",
    "    scores = np.array(scores)\n",
    "    \n",
    "    scoreses.append(scores.mean())\n",
    "    stds.append(scores.std())\n",
    "    highs.append(high)"
   ]
  },
  {
   "cell_type": "markdown",
   "metadata": {},
   "source": [
    "## The Best Score Using Normal Distribution"
   ]
  },
  {
   "cell_type": "code",
   "execution_count": 8,
   "metadata": {},
   "outputs": [
    {
     "data": {
      "image/png": "[encoded data removed]",
      "text/plain": [
       "<Figure size 432x288 with 1 Axes>"
      ]
     },
     "metadata": {
      "needs_background": "light"
     },
     "output_type": "display_data"
    }
   ],
   "source": [
    "plt.scatter(highs, scoreses)\n",
    "plt.show()"
   ]
  },
  {
   "cell_type": "markdown",
   "metadata": {},
   "source": [
    "## The Standard Deviation Using the Best Normal Distribution"
   ]
  },
  {
   "cell_type": "code",
   "execution_count": 9,
   "metadata": {},
   "outputs": [
    {
     "data": {
      "image/png": "[encoded data removed]",
      "text/plain": [
       "<Figure size 432x288 with 1 Axes>"
      ]
     },
     "metadata": {
      "needs_background": "light"
     },
     "output_type": "display_data"
    }
   ],
   "source": [
    "plt.scatter(highs, stds)\n",
    "plt.show()"
   ]
  },
  {
   "cell_type": "markdown",
   "metadata": {},
   "source": [
    "## Reproducing the Best Normal Distribution"
   ]
  },
  {
   "cell_type": "code",
   "execution_count": 19,
   "metadata": {},
   "outputs": [
    {
     "data": {
      "application/vnd.jupyter.widget-view+json": {
       "model_id": "c0fe008524bf48ec8d99426d8cadbfee",
       "version_major": 2,
       "version_minor": 0
      },
      "text/plain": [
       "HBox(children=(IntProgress(value=0, max=10000), HTML(value='')))"
      ]
     },
     "metadata": {},
     "output_type": "display_data"
    },
    {
     "name": "stdout",
     "output_type": "stream",
     "text": [
      "\n",
      "Score: 0.7418905630630541 STD: 0.21593855955363775\n",
      "You have 0.01% chance not getting any schools\n"
     ]
    },
    {
     "data": {
      "image/png": "[encoded data removed]",
      "text/plain": [
       "<Figure size 432x288 with 1 Axes>"
      ]
     },
     "metadata": {
      "needs_background": "light"
     },
     "output_type": "display_data"
    }
   ],
   "source": [
    "pbar = tqdm(range(n_people))\n",
    "scores = []\n",
    "for p in pbar:\n",
    "    chance = np.random.uniform(low=0.0, high=0.4, size=n_choice) # Score: 0.7364615192835041 STD: 0.17269687224170607\n",
    "    evaluation = np.random.uniform(low=0.0, high=1.0, size=n_choice)\n",
    "    success = (evaluation < (chance)).astype(np.byte)\n",
    "    score = np.where(success==1)\n",
    "    score = 1-chance[score]\n",
    "    if len(score) != 0:\n",
    "        score = np.max(score)\n",
    "    else:\n",
    "        score = 0\n",
    "    scores.append(score)\n",
    "#     pbar.set_description(\"{}\".format(score))\n",
    "scores = np.array(scores)\n",
    "print(\"Score: {} STD: {}\".format(scores.mean(), scores.std()))\n",
    "sns.distplot(scores, bins=50)\n",
    "print(\"You have {}% chance not getting any schools\".format(len(np.where(scores==0))/len(scores)*100))"
   ]
  },
  {
   "cell_type": "markdown",
   "metadata": {},
   "source": [
    "2. Best Uniform Distribution (0.0 ~ 1.0) Score: 0.7418905630630541 STD: 0.21593855955363775\n",
    "\n",
    "By simply adjusting the range or uniform distribution, we can raise students' happiness by `0.1`"
   ]
  },
  {
   "cell_type": "markdown",
   "metadata": {},
   "source": [
    "# Normal Distribution\n",
    "\n",
    "Normal Distribution is sometimes the magic in statistics, so let's try it."
   ]
  },
  {
   "cell_type": "code",
   "execution_count": 26,
   "metadata": {},
   "outputs": [
    {
     "data": {
      "application/vnd.jupyter.widget-view+json": {
       "model_id": "97a386c03ac0481eb34c101e6b551f5f",
       "version_major": 2,
       "version_minor": 0
      },
      "text/plain": [
       "HBox(children=(IntProgress(value=0, max=11), HTML(value='')))"
      ]
     },
     "metadata": {},
     "output_type": "display_data"
    }
   ],
   "source": [
    "scoreses = []\n",
    "stds = []\n",
    "means = []\n",
    "\n",
    "pbar = tqdm(np.linspace(0.0, 1.0, 10+1))\n",
    "for mean in pbar:\n",
    "    scores = []\n",
    "    for p in range(n_people):\n",
    "        chance = get_truncated_normal(mean=mean, sd=1, low=0, upp=1).rvs(n_choice)\n",
    "        evaluation = np.random.uniform(low=0.0, high=1.0, size=n_choice)\n",
    "        success = (evaluation < (chance)).astype(np.byte)\n",
    "        score = np.where(success==1)\n",
    "        score = 1-chance[score]\n",
    "        if len(score) != 0:\n",
    "            score = np.max(score)\n",
    "        else:\n",
    "            score = 0\n",
    "        scores.append(score)\n",
    "    #     pbar.set_description(\"{}\".format(score))\n",
    "    scores = np.array(scores)\n",
    "    \n",
    "    scoreses.append(scores.mean())\n",
    "    stds.append(scores.std())\n",
    "    means.append(mean)"
   ]
  },
  {
   "cell_type": "code",
   "execution_count": 27,
   "metadata": {},
   "outputs": [
    {
     "data": {
      "image/png": "[encoded data removed]",
      "text/plain": [
       "<Figure size 432x288 with 1 Axes>"
      ]
     },
     "metadata": {
      "needs_background": "light"
     },
     "output_type": "display_data"
    }
   ],
   "source": [
    "plt.scatter(means, scoreses)\n",
    "plt.show()"
   ]
  },
  {
   "cell_type": "code",
   "execution_count": 28,
   "metadata": {},
   "outputs": [
    {
     "data": {
      "image/png": "[encoded data removed]",
      "text/plain": [
       "<Figure size 432x288 with 1 Axes>"
      ]
     },
     "metadata": {
      "needs_background": "light"
     },
     "output_type": "display_data"
    }
   ],
   "source": [
    "plt.scatter(means, stds)\n",
    "plt.show()"
   ]
  },
  {
   "cell_type": "code",
   "execution_count": 29,
   "metadata": {},
   "outputs": [
    {
     "data": {
      "text/plain": [
       "<matplotlib.axes._subplots.AxesSubplot at 0x7fb5c53667b8>"
      ]
     },
     "execution_count": 29,
     "metadata": {},
     "output_type": "execute_result"
    },
    {
     "data": {
      "image/png": "[encoded data removed]",
      "text/plain": [
       "<Figure size 432x288 with 1 Axes>"
      ]
     },
     "metadata": {
      "needs_background": "light"
     },
     "output_type": "display_data"
    }
   ],
   "source": [
    "sns.distplot(get_truncated_normal(mean=mean, sd=1, low=0, upp=1).rvs(n_people))"
   ]
  },
  {
   "cell_type": "markdown",
   "metadata": {},
   "source": [
    "This distribution gives the best result among all normal distribution with standard deviation =1, meaning that the best distribution should be left skewed."
   ]
  },
  {
   "cell_type": "code",
   "execution_count": 68,
   "metadata": {},
   "outputs": [
    {
     "data": {
      "application/vnd.jupyter.widget-view+json": {
       "model_id": "820c7c1a68d146ec9b4c6d14e19a71ec",
       "version_major": 2,
       "version_minor": 0
      },
      "text/plain": [
       "HBox(children=(IntProgress(value=0, max=11), HTML(value='')))"
      ]
     },
     "metadata": {},
     "output_type": "display_data"
    }
   ],
   "source": [
    "scoreses = []\n",
    "stds = []\n",
    "sds = []\n",
    "\n",
    "pbar = tqdm(np.linspace(0.1, 1.0, 10+1))\n",
    "for sd in pbar:\n",
    "    scores = []\n",
    "    for p in range(n_people):\n",
    "        chance = get_truncated_normal(mean=0, sd=sd, low=0, upp=1).rvs(n_choice)\n",
    "        evaluation = np.random.uniform(low=0.0, high=1.0, size=n_choice)\n",
    "        success = (evaluation < (chance)).astype(np.byte)\n",
    "        score = np.where(success==1)\n",
    "        score = 1-chance[score]\n",
    "        if len(score) != 0:\n",
    "            score = np.max(score)\n",
    "        else:\n",
    "            score = 0\n",
    "        scores.append(score)\n",
    "    #     pbar.set_description(\"{}\".format(score))\n",
    "    scores = np.array(scores)\n",
    "    \n",
    "    scoreses.append(scores.mean())\n",
    "    stds.append(scores.std())\n",
    "    sds.append(sd)"
   ]
  },
  {
   "cell_type": "code",
   "execution_count": 69,
   "metadata": {},
   "outputs": [
    {
     "data": {
      "image/png": "[encoded data removed]",
      "text/plain": [
       "<Figure size 432x288 with 1 Axes>"
      ]
     },
     "metadata": {
      "needs_background": "light"
     },
     "output_type": "display_data"
    }
   ],
   "source": [
    "plt.scatter(means, scoreses)\n",
    "plt.show()"
   ]
  },
  {
   "cell_type": "code",
   "execution_count": 70,
   "metadata": {},
   "outputs": [
    {
     "data": {
      "image/png": "[encoded data removed]",
      "text/plain": [
       "<Figure size 432x288 with 1 Axes>"
      ]
     },
     "metadata": {
      "needs_background": "light"
     },
     "output_type": "display_data"
    }
   ],
   "source": [
    "plt.scatter(means, stds)\n",
    "plt.show()"
   ]
  },
  {
   "cell_type": "markdown",
   "metadata": {},
   "source": [
    "It looks like we need a grid search. To save your computational power, here is the best result I got using skewed normal distribution"
   ]
  },
  {
   "cell_type": "code",
   "execution_count": 80,
   "metadata": {},
   "outputs": [
    {
     "name": "stdout",
     "output_type": "stream",
     "text": [
      "Mean: 0.15 Sd: 0.025750000000000002 gives 0.766553852869461\n"
     ]
    }
   ],
   "source": [
    "means = np.linspace(0.1, 0.3, 5)\n",
    "sds = np.linspace(0.001, 0.1, 5)\n",
    "\n",
    "best_means = -1\n",
    "best_sds = -1\n",
    "best_score = 0\n",
    "\n",
    "for mean in means:\n",
    "    for sd in sds:\n",
    "        scores = []\n",
    "        dis = get_truncated_normal(mean=0.2, sd=0.05, low=0, upp=1)\n",
    "        for p in range(n_people):\n",
    "            chance = dis.rvs(n_choice)\n",
    "            evaluation = np.random.uniform(low=0.0, high=1.0, size=n_choice)\n",
    "            success = (evaluation < (chance)).astype(np.byte)\n",
    "            score = np.where(success==1)\n",
    "            score = 1-chance[score]\n",
    "            if len(score) != 0:\n",
    "                score = np.max(score)\n",
    "            else:\n",
    "                score = 0\n",
    "            scores.append(score)\n",
    "        #     pbar.set_description(\"{}\".format(score))\n",
    "        scores = np.array(scores)\n",
    "        scores = scores.mean()\n",
    "\n",
    "        if scores > best_score:\n",
    "            best_score = scores\n",
    "            best_means = mean\n",
    "            best_sds = sd\n",
    "    \n",
    "print(\"Mean: {} Sd: {} gives {}\".format(best_means, best_sds, best_score))"
   ]
  },
  {
   "cell_type": "code",
   "execution_count": 83,
   "metadata": {},
   "outputs": [
    {
     "data": {
      "application/vnd.jupyter.widget-view+json": {
       "model_id": "af822203889444a3bde3ae56f0be5746",
       "version_major": 2,
       "version_minor": 0
      },
      "text/plain": [
       "HBox(children=(IntProgress(value=0, max=10000), HTML(value='')))"
      ]
     },
     "metadata": {},
     "output_type": "display_data"
    },
    {
     "name": "stdout",
     "output_type": "stream",
     "text": [
      "Score: 0.7609843300373614 STD: 0.21265756478490155\n",
      "You have 0.01% chance not getting any schools\n"
     ]
    },
    {
     "data": {
      "image/png": "[encoded data removed]",
      "text/plain": [
       "<Figure size 432x288 with 1 Axes>"
      ]
     },
     "metadata": {
      "needs_background": "light"
     },
     "output_type": "display_data"
    }
   ],
   "source": [
    "pbar = tqdm(range(n_people))\n",
    "scores = []\n",
    "dis = get_truncated_normal(mean=0.2, sd=0.056, low=0, upp=1)\n",
    "for p in pbar:\n",
    "    chance = dis.rvs(n_choice)\n",
    "    evaluation = np.random.uniform(low=0.0, high=1.0, size=n_choice)\n",
    "    success = (evaluation < (chance)).astype(np.byte)\n",
    "    score = np.where(success==1)\n",
    "    score = 1-chance[score]\n",
    "    if len(score) != 0:\n",
    "        score = np.max(score)\n",
    "    else:\n",
    "        score = 0\n",
    "    scores.append(score)\n",
    "#     pbar.set_description(\"{}\".format(score))\n",
    "scores = np.array(scores)\n",
    "print(\"Score: {} STD: {}\".format(scores.mean(), scores.std()))\n",
    "sns.distplot(scores, bins=50)\n",
    "print(\"You have {}% chance not getting any schools\".format(len(np.where(scores==0))/len(scores)*100))"
   ]
  },
  {
   "cell_type": "code",
   "execution_count": 96,
   "metadata": {},
   "outputs": [
    {
     "data": {
      "text/plain": [
       "[(0, 1)]"
      ]
     },
     "execution_count": 96,
     "metadata": {},
     "output_type": "execute_result"
    },
    {
     "data": {
      "image/png": "[encoded data removed]",
      "text/plain": [
       "<Figure size 432x288 with 1 Axes>"
      ]
     },
     "metadata": {
      "needs_background": "light"
     },
     "output_type": "display_data"
    }
   ],
   "source": [
    "sns.distplot(get_truncated_normal(mean=0.15, sd=0.02575, low=0, upp=1).rvs(n_people)).set(xlim=(0, 1))"
   ]
  },
  {
   "cell_type": "markdown",
   "metadata": {},
   "source": [
    "# Single Value"
   ]
  },
  {
   "cell_type": "code",
   "execution_count": 94,
   "metadata": {},
   "outputs": [
    {
     "data": {
      "application/vnd.jupyter.widget-view+json": {
       "model_id": "f03810c0cd2249818ca1f2004286ef9d",
       "version_major": 2,
       "version_minor": 0
      },
      "text/plain": [
       "HBox(children=(IntProgress(value=0, max=10000), HTML(value='')))"
      ]
     },
     "metadata": {},
     "output_type": "display_data"
    },
    {
     "name": "stdout",
     "output_type": "stream",
     "text": [
      "Score: 0.7488 STD: 0.19580234932196292\n",
      "You have 0.01% chance not getting any schools\n"
     ]
    },
    {
     "data": {
      "image/png": "[encoded data removed]",
      "text/plain": [
       "<Figure size 432x288 with 1 Axes>"
      ]
     },
     "metadata": {
      "needs_background": "light"
     },
     "output_type": "display_data"
    }
   ],
   "source": [
    "pbar = tqdm(range(n_people))\n",
    "scores = []\n",
    "for p in pbar:\n",
    "    chance = np.array([0.2] * n_choice)\n",
    "    evaluation = np.random.uniform(low=0.0, high=1.0, size=n_choice)\n",
    "    success = (evaluation < (chance)).astype(np.byte)\n",
    "    score = np.where(success==1)\n",
    "    score = 1-chance[score]\n",
    "    if len(score) != 0:\n",
    "        score = np.max(score)\n",
    "    else:\n",
    "        score = 0\n",
    "    scores.append(score)\n",
    "#     pbar.set_description(\"{}\".format(score))\n",
    "scores = np.array(scores)\n",
    "print(\"Score: {} STD: {}\".format(scores.mean(), scores.std()))\n",
    "sns.distplot(scores, bins=50)\n",
    "print(\"You have {}% chance not getting any schools\".format(len(np.where(scores==0))/len(scores)*100))"
   ]
  },
  {
   "cell_type": "code",
   "execution_count": 112,
   "metadata": {},
   "outputs": [
    {
     "data": {
      "application/vnd.jupyter.widget-view+json": {
       "model_id": "3c86ab364c344cef92ffc9fdbc4bb244",
       "version_major": 2,
       "version_minor": 0
      },
      "text/plain": [
       "HBox(children=(IntProgress(value=0, max=10000), HTML(value='')))"
      ]
     },
     "metadata": {},
     "output_type": "display_data"
    },
    {
     "name": "stdout",
     "output_type": "stream",
     "text": [
      "Score: 0.7564600000000001 STD: 0.1447973356108461\n",
      "You have 0.01% chance not getting any schools\n"
     ]
    },
    {
     "data": {
      "image/png": "[encoded data removed]",
      "text/plain": [
       "<Figure size 432x288 with 1 Axes>"
      ]
     },
     "metadata": {
      "needs_background": "light"
     },
     "output_type": "display_data"
    }
   ],
   "source": [
    "pbar = tqdm(range(n_people))\n",
    "scores = []\n",
    "for p in pbar:\n",
    "    chance = np.array([0.2] * int(10) + [0.5]* int(2))\n",
    "    evaluation = np.random.uniform(low=0.0, high=1.0, size=n_choice)\n",
    "    success = (evaluation < (chance)).astype(np.byte)\n",
    "    score = np.where(success==1)\n",
    "    score = 1-chance[score]\n",
    "    if len(score) != 0:\n",
    "        score = np.max(score)\n",
    "    else:\n",
    "        score = 0\n",
    "    scores.append(score)\n",
    "#     pbar.set_description(\"{}\".format(score))\n",
    "scores = np.array(scores)\n",
    "print(\"Score: {} STD: {}\".format(scores.mean(), scores.std()))\n",
    "sns.distplot(scores, bins=50)\n",
    "print(\"You have {}% chance not getting any schools\".format(len(np.where(scores==0))/len(scores)*100))"
   ]
  },
  {
   "cell_type": "code",
   "execution_count": null,
   "metadata": {},
   "outputs": [],
   "source": []
  }
 ],
 "metadata": {
  "kernelspec": {
   "display_name": "Python 3",
   "language": "python",
   "name": "python3"
  },
  "language_info": {
   "codemirror_mode": {
    "name": "ipython",
    "version": 3
   },
   "file_extension": ".py",
   "mimetype": "text/x-python",
   "name": "python",
   "nbconvert_exporter": "python",
   "pygments_lexer": "ipython3",
   "version": "3.6.7"
  }
 },
 "nbformat": 4,
 "nbformat_minor": 2
}
