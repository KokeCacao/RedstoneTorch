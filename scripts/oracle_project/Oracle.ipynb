{
 "cells": [
  {
   "cell_type": "code",
   "execution_count": 1,
   "metadata": {},
   "outputs": [],
   "source": [
    "from PIL import Image, ImageEnhance, ImageOps\n",
    "from tqdm import tqdm_notebook as tqdm\n",
    "import glob, os\n",
    "import numpy as np\n"
   ]
  },
  {
   "cell_type": "code",
   "execution_count": 2,
   "metadata": {},
   "outputs": [],
   "source": [
    "path = \"/home/koke_cacao/Documents/Koke_Cacao/Python/WorkSpace/RedstoneTorch/data/oracle_dataset/generated/*.png\"\n",
    "to_path = \"/home/koke_cacao/Documents/Koke_Cacao/Python/WorkSpace/RedstoneTorch/data/oracle_dataset/processed/\"\n",
    "size = (16, 16)"
   ]
  },
  {
   "cell_type": "code",
   "execution_count": 3,
   "metadata": {},
   "outputs": [],
   "source": [
    "def process_images(path, to_path, size=(32, 32), resample=Image.NEAREST, overwrite=False):\n",
    "    pbar = tqdm(glob.glob(path))\n",
    "    to_path = to_path + \"{}/\".format(size[0])\n",
    "    if not os.path.exists(to_path): os.makedirs(to_path)\n",
    "    \n",
    "    for infile in pbar:\n",
    "        file, ext = os.path.splitext(infile)\n",
    "        name = file.split(\"/\")[-1]\n",
    "        im = Image.open(infile)\n",
    "#         im = change_contrast(im, 200)\n",
    "#         im = ImageOps.invert(im)\n",
    "        im = binarize_image(im)\n",
    "#         im = cap(im)\n",
    "#         im = expand_boarder(im)\n",
    "        im.thumbnail(size, resample)\n",
    "        im.convert('1')\n",
    "        if not overwrite:\n",
    "            im.save(to_path + name + \".png\", \"PNG\")\n",
    "        else:\n",
    "            im.save(to_path + name + \".png\", \"PNG\")\n",
    "            os.remove(infile)\n",
    "            \n",
    "def change_contrast(img, level):\n",
    "    factor = (259 * (level + 255)) / (255 * (259 - level))\n",
    "    def contrast(c):\n",
    "        value = 128 + factor * (c - 128)\n",
    "        return max(0, min(255, value))\n",
    "    return img.point(contrast)\n",
    "\n",
    "def cap(img):\n",
    "    numpy_img = np.array(img)\n",
    "#     print(numpy_img)\n",
    "    numpy_img = (numpy_img < 255).astype(np.uint8)*255\n",
    "    print(numpy_img)\n",
    "    return Image.fromarray(numpy_img)\n",
    "    \n",
    "\n",
    "def expand_boarder(img, pixel=1):\n",
    "    numpy_img = np.array(img)\n",
    "    x, y, channel = numpy_img.shape\n",
    "    for xs in range(x):\n",
    "        for ys in range(y):\n",
    "            for diff in range(pixel):\n",
    "                diff = diff+1\n",
    "                \n",
    "                try:\n",
    "                    if numpy_img[xs+diff, ys, 0] < 1:\n",
    "                        numpy_img[xs, ys, 0] = 0\n",
    "                        numpy_img[xs, ys, 1] = 0\n",
    "                        numpy_img[xs, ys, 2] = 0\n",
    "                except IndexError as e:\n",
    "                    pass\n",
    "                \n",
    "                try:\n",
    "                    if numpy_img[xs-diff, ys, 0] < 1:\n",
    "                        numpy_img[xs, ys, 0] = 0\n",
    "                        numpy_img[xs, ys, 1] = 0\n",
    "                        numpy_img[xs, ys, 2] = 0\n",
    "                except IndexError as e:\n",
    "                    pass\n",
    "                \n",
    "                try:\n",
    "                    if numpy_img[xs, ys+diff, 0] < 1:\n",
    "                        numpy_img[xs, ys, 0] = 0\n",
    "                        numpy_img[xs, ys, 1] = 0\n",
    "                        numpy_img[xs, ys, 2] = 0\n",
    "                except IndexError as e:\n",
    "                    pass\n",
    "                \n",
    "                try:\n",
    "                    if numpy_img[xs, ys-diff, 0] < 1:\n",
    "                        numpy_img[xs, ys, 0] = 0\n",
    "                        numpy_img[xs, ys, 1] = 0\n",
    "                        numpy_img[xs, ys, 2] = 0\n",
    "                except IndexError as e:\n",
    "                    pass\n",
    "                    \n",
    "    return Image.fromarray(numpy_img)\n",
    "\n",
    "def binarize_image(image, threshold=200):\n",
    "    image = image.convert('L')\n",
    "    numpy_array = np.array(image)\n",
    "    for i in range(len(numpy_array)):\n",
    "        for j in range(len(numpy_array[0])):\n",
    "            if numpy_array[i][j] > threshold:\n",
    "                numpy_array[i][j] = 255\n",
    "            else:\n",
    "                numpy_array[i][j] = 0\n",
    "    return Image.fromarray(numpy_array)"
   ]
  },
  {
   "cell_type": "code",
   "execution_count": 6,
   "metadata": {},
   "outputs": [
    {
     "data": {
      "application/vnd.jupyter.widget-view+json": {
       "model_id": "b26931178dc74d43899a082d2375593c",
       "version_major": 2,
       "version_minor": 0
      },
      "text/plain": [
       "HBox(children=(IntProgress(value=0, max=1000), HTML(value='')))"
      ]
     },
     "metadata": {},
     "output_type": "display_data"
    },
    {
     "name": "stdout",
     "output_type": "stream",
     "text": [
      "\n"
     ]
    }
   ],
   "source": [
    "process_images(path, to_path, (32, 32))"
   ]
  }
 ],
 "metadata": {
  "kernelspec": {
   "display_name": "Python 3",
   "language": "python",
   "name": "python3"
  },
  "language_info": {
   "codemirror_mode": {
    "name": "ipython",
    "version": 3
   },
   "file_extension": ".py",
   "mimetype": "text/x-python",
   "name": "python",
   "nbconvert_exporter": "python",
   "pygments_lexer": "ipython3",
   "version": "3.6.7"
  }
 },
 "nbformat": 4,
 "nbformat_minor": 2
}
