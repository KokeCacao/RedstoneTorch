{
 "cells": [
  {
   "cell_type": "code",
   "execution_count": 1,
   "metadata": {},
   "outputs": [],
   "source": [
    "import os\n",
    "import numpy as np\n",
    "import pandas as pd\n",
    "import matplotlib.pyplot as plt\n",
    "\n",
    "from tqdm import tqdm_notebook as tqdm\n",
    "from datetime import datetime # https://www.kaggle.com/c/siim-acr-pneumothorax-segmentation/discussion/97119\n",
    "from scipy import stats"
   ]
  },
  {
   "cell_type": "code",
   "execution_count": 42,
   "metadata": {},
   "outputs": [],
   "source": [
    "def mask2rle(img, width=1024, height=1024, max_color=1):\n",
    "    rle = []\n",
    "    lastColor = 0\n",
    "    currentPixel = 0\n",
    "    runStart = -1\n",
    "    runLength = 0\n",
    "\n",
    "    for x in range(width):\n",
    "        for y in range(height):\n",
    "            currentColor = img[x][y]\n",
    "            if currentColor != lastColor:\n",
    "                if currentColor == max_color:\n",
    "                    runStart = currentPixel\n",
    "                    runLength = 1\n",
    "                else:\n",
    "                    rle.append(str(runStart))\n",
    "                    rle.append(str(runLength))\n",
    "                    runStart = -1\n",
    "                    runLength = 0\n",
    "                    currentPixel = 0\n",
    "            elif runStart > -1:\n",
    "                runLength += 1\n",
    "            lastColor = currentColor\n",
    "            currentPixel+=1\n",
    "\n",
    "    return \" \".join(rle)\n",
    "\n",
    "def rle2mask(rle, width=1024, height=1024, max_color=255):\n",
    "    mask = np.zeros(width * height)\n",
    "    \"\"\"WARNING: This function should only be used in SIIM dataset because it constains .T() transformation here\"\"\"\n",
    "    if rle == '-1': return mask.reshape(width, height)\n",
    "    array = np.asarray([int(x) for x in rle.split()])\n",
    "    starts = array[0::2]\n",
    "    lengths = array[1::2]\n",
    "\n",
    "    current_position = 0\n",
    "    for index, start in enumerate(starts):\n",
    "        current_position += start\n",
    "        mask[current_position:current_position+lengths[index]] = max_color\n",
    "        current_position += lengths[index]\n",
    "    \"\"\"WARNING: This function should only be used in SIIM dataset because it constains .T() transformation here\"\"\"\n",
    "    return mask.reshape(width, height)\n",
    "\n",
    "\n",
    "def rle2mask(rle, width=1024, height=1024, max_color=255):\n",
    "    '''\n",
    "    Decode rle encoded mask.\n",
    "    \n",
    "    :param mask_rle: run-length as string formatted (start length)\n",
    "    :param shape: (height, width) of array to return \n",
    "    Returns numpy array, 1 - mask, 0 - background\n",
    "    '''\n",
    "    s = rle.split()\n",
    "    starts, lengths = [np.asarray(x, dtype=int) for x in (s[0:][::2], s[1:][::2])]\n",
    "    starts -= 1\n",
    "    ends = starts + lengths\n",
    "    img = np.zeros(width * height, dtype=np.uint8)\n",
    "    for lo, hi in zip(starts, ends):\n",
    "        img[lo:hi] = max_color\n",
    "    return img.reshape(width, height, order='F')\n",
    "\n",
    "def mask2rle(img, width=None, height=None, max_color=None):\n",
    "    '''\n",
    "    Convert mask to rle.\n",
    "    img: numpy array, 1 - mask, 0 - background\n",
    "    Returns run length as string formated\n",
    "    '''\n",
    "    pixels= img.T.flatten()\n",
    "    pixels = np.concatenate([[0], pixels, [0]])\n",
    "    runs = np.where(pixels[1:] != pixels[:-1])[0] + 1\n",
    "    runs[1::2] -= runs[::2]\n",
    "    return ' '.join(str(x) for x in runs)"
   ]
  },
  {
   "cell_type": "code",
   "execution_count": 11,
   "metadata": {},
   "outputs": [],
   "source": [
    "def calculate_mode(ndarray, axis=0):\n",
    "    # Check inputs\n",
    "    ndarray = np.asarray(ndarray)\n",
    "    ndim = ndarray.ndim\n",
    "    if ndarray.size == 1:\n",
    "        return (ndarray[0], 1)\n",
    "    elif ndarray.size == 0:\n",
    "        raise Exception('Cannot compute mode on empty array')\n",
    "    try:\n",
    "        axis = range(ndarray.ndim)[axis]\n",
    "    except:\n",
    "        raise Exception('Axis \"{}\" incompatible with the {}-dimension array'.format(axis, ndim))\n",
    "\n",
    "    # If array is 1-D and numpy version is > 1.9 numpy.unique will suffice\n",
    "    if all([ndim == 1,\n",
    "            int(np.__version__.split('.')[0]) >= 1,\n",
    "            int(np.__version__.split('.')[1]) >= 9]):\n",
    "        modals, counts = np.unique(ndarray, return_counts=True)\n",
    "        index = np.argmax(counts)\n",
    "        return modals[index], counts[index]\n",
    "\n",
    "    # Sort array\n",
    "    sort = np.sort(ndarray, axis=axis)\n",
    "    # Create array to transpose along the axis and get padding shape\n",
    "    transpose = np.roll(np.arange(ndim)[::-1], axis)\n",
    "    shape = list(sort.shape)\n",
    "    shape[axis] = 1\n",
    "    # Create a boolean array along strides of unique values\n",
    "    strides = np.concatenate([np.zeros(shape=shape, dtype='bool'),\n",
    "                                 np.diff(sort, axis=axis) == 0,\n",
    "                                 np.zeros(shape=shape, dtype='bool')],\n",
    "                                axis=axis).transpose(transpose).ravel()\n",
    "    # Count the stride lengths\n",
    "    counts = np.cumsum(strides)\n",
    "    counts[~strides] = np.concatenate([[0], np.diff(counts[~strides])])\n",
    "    counts[strides] = 0\n",
    "    # Get shape of padded counts and slice to return to the original shape\n",
    "    shape = np.array(sort.shape)\n",
    "    shape[axis] += 1\n",
    "    shape = shape[transpose]\n",
    "    slices = [slice(None)] * ndim\n",
    "    slices[axis] = slice(1, None)\n",
    "    # Reshape and compute final counts\n",
    "    counts = counts.reshape(shape).transpose(transpose)[slices] + 1\n",
    "\n",
    "    # Find maximum counts and return modals/counts\n",
    "    slices = [slice(None, i) for i in sort.shape]\n",
    "    del slices[axis]\n",
    "    index = np.ogrid[slices]\n",
    "    index.insert(axis, np.argmax(counts, axis=axis))\n",
    "    return sort[index], counts[index]"
   ]
  },
  {
   "cell_type": "code",
   "execution_count": 3,
   "metadata": {},
   "outputs": [],
   "source": [
    "def draw(image, vmin=0, vmax=1):\n",
    "    F = plt.figure()\n",
    "    plt.imshow(np.squeeze(image), cmap='plasma', vmin=vmin, vmax=vmax)\n",
    "    plt.grid(False)\n",
    "def draw_gray(image, vmin=0, vmax=255):\n",
    "    F = plt.figure()\n",
    "    plt.imshow(np.squeeze(image), cmap='Greys', vmin=vmin, vmax=vmax)\n",
    "    plt.grid(False)\n",
    "def get_metadata_by_id(path):\n",
    "    ds = pydicom.dcmread(path)\n",
    "    return ds.PatientAge, ds.PatientSex, ds.PixelSpacing, ds.ReferringPhysicianName, ds.SeriesDescription, ds.ViewPosition\n",
    "def get_load_image_by_id(path):\n",
    "    ds = pydicom.read_file(path)\n",
    "    return np.array(ds.pixel_array)\n",
    "def get_time(ts): #1517875163.537053 -> 2018-02-05 23:59:23\n",
    "    return datetime.utcfromtimestamp(ts).strftime('%Y-%m-%d %H:%M:%S')"
   ]
  },
  {
   "cell_type": "code",
   "execution_count": 4,
   "metadata": {},
   "outputs": [
    {
     "data": {
      "text/html": [
       "<div>\n",
       "<style scoped>\n",
       "    .dataframe tbody tr th:only-of-type {\n",
       "        vertical-align: middle;\n",
       "    }\n",
       "\n",
       "    .dataframe tbody tr th {\n",
       "        vertical-align: top;\n",
       "    }\n",
       "\n",
       "    .dataframe thead th {\n",
       "        text-align: right;\n",
       "    }\n",
       "</style>\n",
       "<table border=\"1\" class=\"dataframe\">\n",
       "  <thead>\n",
       "    <tr style=\"text-align: right;\">\n",
       "      <th></th>\n",
       "      <th>Image_Label</th>\n",
       "      <th>EncodedPixels</th>\n",
       "    </tr>\n",
       "  </thead>\n",
       "  <tbody>\n",
       "    <tr>\n",
       "      <th>0</th>\n",
       "      <td>002f507.jpg_Fish</td>\n",
       "      <td>NaN</td>\n",
       "    </tr>\n",
       "    <tr>\n",
       "      <th>1</th>\n",
       "      <td>002f507.jpg_Flower</td>\n",
       "      <td>NaN</td>\n",
       "    </tr>\n",
       "    <tr>\n",
       "      <th>2</th>\n",
       "      <td>002f507.jpg_Gravel</td>\n",
       "      <td>15 314 362 323 701 347 1051 67538 68590 348 68...</td>\n",
       "    </tr>\n",
       "    <tr>\n",
       "      <th>3</th>\n",
       "      <td>002f507.jpg_Sugar</td>\n",
       "      <td>90837 3 91184 7 91533 8 91883 8 92233 9 92583 ...</td>\n",
       "    </tr>\n",
       "    <tr>\n",
       "      <th>4</th>\n",
       "      <td>0035ae9.jpg_Fish</td>\n",
       "      <td>NaN</td>\n",
       "    </tr>\n",
       "  </tbody>\n",
       "</table>\n",
       "</div>"
      ],
      "text/plain": [
       "          Image_Label                                      EncodedPixels\n",
       "0    002f507.jpg_Fish                                                NaN\n",
       "1  002f507.jpg_Flower                                                NaN\n",
       "2  002f507.jpg_Gravel  15 314 362 323 701 347 1051 67538 68590 348 68...\n",
       "3   002f507.jpg_Sugar  90837 3 91184 7 91533 8 91883 8 92233 9 92583 ...\n",
       "4    0035ae9.jpg_Fish                                                NaN"
      ]
     },
     "execution_count": 4,
     "metadata": {},
     "output_type": "execute_result"
    }
   ],
   "source": [
    "csv = pd.read_csv(\"/home/koke_cacao/Documents/Koke_Cacao/Python/WorkSpace/RedstoneTorch/scripts/cloud_project/resnet_keras_with_some_new_ideas_v13_0.653.csv\")\n",
    "csv.sort_values(by=['Image_Label']).head()"
   ]
  },
  {
   "cell_type": "markdown",
   "metadata": {},
   "source": [
    "# Voting Ensemble with Overlapping Mask (Use This)"
   ]
  },
  {
   "cell_type": "code",
   "execution_count": 49,
   "metadata": {},
   "outputs": [
    {
     "name": "stdout",
     "output_type": "stream",
     "text": [
      "Creating Path: /home/koke_cacao/Documents/Koke_Cacao/Python/WorkSpace/RedstoneTorch/scripts/cloud_project/voting-top.csv\n",
      "WARNING: delete file '/home/koke_cacao/Documents/Koke_Cacao/Python/WorkSpace/RedstoneTorch/scripts/cloud_project/voting-top.csv'\n"
     ]
    },
    {
     "data": {
      "application/vnd.jupyter.widget-view+json": {
       "model_id": "0e76536d76f947f983b8595e6ed66ec2",
       "version_major": 2,
       "version_minor": 0
      },
      "text/plain": [
       "HBox(children=(IntProgress(value=0, max=14792), HTML(value='')))"
      ]
     },
     "metadata": {},
     "output_type": "display_data"
    },
    {
     "name": "stderr",
     "output_type": "stream",
     "text": [
      "/home/koke_cacao/miniconda3/envs/ml/lib/python3.6/site-packages/ipykernel_launcher.py:25: FutureWarning: `item` has been deprecated and will be removed in a future version\n"
     ]
    },
    {
     "name": "stdout",
     "output_type": "stream",
     "text": [
      "\n",
      "Output file '/home/koke_cacao/Documents/Koke_Cacao/Python/WorkSpace/RedstoneTorch/scripts/cloud_project/voting-top.csv'\n"
     ]
    }
   ],
   "source": [
    "FOLDER = \"/home/koke_cacao/Documents/Koke_Cacao/Python/WorkSpace/RedstoneTorch/scripts/cloud_project/\"\n",
    "CSV_PATH = [\"cloud_convexhull_polygon_postprocessing_0.655.csv\",\n",
    "           \"indeptionresnetv2_for_cloud_classifier_v8_0.657.csv\",\n",
    "           \"keras_efficientnetb2_for_classifying_cloud_v13_0.655.csv\",\n",
    "           \"keras_efficientnetb4_v3_0.655.csv\",\n",
    "           \"resnet_keras_with_some_new_ideas_v13_0.653.csv\",]\n",
    "CSV_PATH = [FOLDER + i for i in CSV_PATH]\n",
    "CSV = [pd.read_csv(i).sort_values(by=['Image_Label']) for i in CSV_PATH]\n",
    "WEIGHT = np.array([1, 1, 1, 1, 1])\n",
    "WIDTH = 350\n",
    "HEIGHT = 525\n",
    "\n",
    "prob_path = \"{}voting-top.csv\".format(FOLDER)\n",
    "print(\"Creating Path: {}\".format(prob_path))\n",
    "if os.path.exists(prob_path):\n",
    "    os.remove(prob_path)\n",
    "    print(\"WARNING: delete file '{}'\".format(prob_path))\n",
    "with open(prob_path, 'a') as prob_file:\n",
    "    prob_file.write('{},{}\\n'.format(\"Image_Label\", \"EncodedPixels\"))\n",
    "    \n",
    "    pbar = tqdm(CSV[0]['Image_Label'].tolist())\n",
    "    for id in pbar:\n",
    "        mask = np.zeros((WIDTH, HEIGHT))\n",
    "        for i, csv in enumerate(CSV):\n",
    "            pixel = str(csv.loc[csv['Image_Label'] == id]['EncodedPixels'].item())\n",
    "            if pixel == \"nan\": pixel = \"\"\n",
    "            pixel = rle2mask(pixel, width=WIDTH, height=HEIGHT, max_color=1)\n",
    "            mask = mask + pixel\n",
    "        mask = mask / WEIGHT.sum()\n",
    "        mask = (mask > 0.5).astype(np.byte)\n",
    "        mask = mask2rle(mask, width=WIDTH, height=HEIGHT, max_color=1)\n",
    "        pbar.set_description(\"{}\".format(\"\"))\n",
    "        prob_file.write('{},{}\\n'.format(id, mask))\n",
    "\n",
    "print(\"Output file '{}'\".format(prob_path))"
   ]
  },
  {
   "cell_type": "markdown",
   "metadata": {},
   "source": [
    "# Voting Ensemble with No Overlapping Mask (Don't Use This)"
   ]
  },
  {
   "cell_type": "code",
   "execution_count": 50,
   "metadata": {},
   "outputs": [
    {
     "name": "stdout",
     "output_type": "stream",
     "text": [
      "Creating Path: /home/koke_cacao/Documents/Koke_Cacao/Python/WorkSpace/RedstoneTorch/scripts/cloud_project/voting-top.csv\n",
      "WARNING: delete file '/home/koke_cacao/Documents/Koke_Cacao/Python/WorkSpace/RedstoneTorch/scripts/cloud_project/voting-top.csv'\n"
     ]
    },
    {
     "data": {
      "application/vnd.jupyter.widget-view+json": {
       "model_id": "c27d5b17c409490f99193d61b21d8d50",
       "version_major": 2,
       "version_minor": 0
      },
      "text/plain": [
       "HBox(children=(IntProgress(value=0, max=3698), HTML(value='')))"
      ]
     },
     "metadata": {},
     "output_type": "display_data"
    },
    {
     "name": "stderr",
     "output_type": "stream",
     "text": [
      "/home/koke_cacao/miniconda3/envs/ml/lib/python3.6/site-packages/ipykernel_launcher.py:28: FutureWarning: `item` has been deprecated and will be removed in a future version\n",
      "/home/koke_cacao/miniconda3/envs/ml/lib/python3.6/site-packages/ipykernel_launcher.py:32: FutureWarning: `item` has been deprecated and will be removed in a future version\n",
      "/home/koke_cacao/miniconda3/envs/ml/lib/python3.6/site-packages/ipykernel_launcher.py:37: FutureWarning: `item` has been deprecated and will be removed in a future version\n",
      "/home/koke_cacao/miniconda3/envs/ml/lib/python3.6/site-packages/ipykernel_launcher.py:41: FutureWarning: `item` has been deprecated and will be removed in a future version\n",
      "/home/koke_cacao/miniconda3/envs/ml/lib/python3.6/site-packages/ipykernel_launcher.py:44: FutureWarning: Using a non-tuple sequence for multidimensional indexing is deprecated; use `arr[tuple(seq)]` instead of `arr[seq]`. In the future this will be interpreted as an array index, `arr[np.array(seq)]`, which will result either in an error or a different result.\n",
      "/home/koke_cacao/miniconda3/envs/ml/lib/python3.6/site-packages/ipykernel_launcher.py:51: FutureWarning: Using a non-tuple sequence for multidimensional indexing is deprecated; use `arr[tuple(seq)]` instead of `arr[seq]`. In the future this will be interpreted as an array index, `arr[np.array(seq)]`, which will result either in an error or a different result.\n"
     ]
    },
    {
     "name": "stdout",
     "output_type": "stream",
     "text": [
      "\n",
      "Output file '/home/koke_cacao/Documents/Koke_Cacao/Python/WorkSpace/RedstoneTorch/scripts/cloud_project/voting-top.csv'\n"
     ]
    }
   ],
   "source": [
    "FOLDER = \"/home/koke_cacao/Documents/Koke_Cacao/Python/WorkSpace/RedstoneTorch/scripts/cloud_project/\"\n",
    "CSV_PATH = [\"cloud_convexhull_polygon_postprocessing_0.655.csv\",]\n",
    "#            \"indeptionresnetv2_for_cloud_classifier_v8_0.657.csv\",\n",
    "#            \"keras_efficientnetb2_for_classifying_cloud_v13_0.655.csv\",\n",
    "#            \"keras_efficientnetb4_v3_0.655.csv\",\n",
    "#            \"resnet_keras_with_some_new_ideas_v13_0.653.csv\",]\n",
    "CSV_PATH = [FOLDER + i for i in CSV_PATH]\n",
    "CSV = [pd.read_csv(i).sort_values(by=['Image_Label']) for i in CSV_PATH]\n",
    "WEIGHT = np.array([1, 1, 1, 1, 1])\n",
    "WIDTH = 350\n",
    "HEIGHT = 525\n",
    "\n",
    "prob_path = \"{}voting-top.csv\".format(FOLDER)\n",
    "print(\"Creating Path: {}\".format(prob_path))\n",
    "if os.path.exists(prob_path):\n",
    "    os.remove(prob_path)\n",
    "    print(\"WARNING: delete file '{}'\".format(prob_path))\n",
    "\n",
    "with open(prob_path, 'a') as prob_file:\n",
    "    prob_file.write('{},{}\\n'.format(\"Image_Label\", \"EncodedPixels\"))\n",
    "    \n",
    "    pbar = tqdm(set(i.split(\"_\")[0] for i in CSV[0]['Image_Label'].tolist()))\n",
    "    empty = 0\n",
    "    for id in pbar:\n",
    "        mask = np.zeros((len(CSV), WIDTH, HEIGHT))\n",
    "#         pbar.set_description(\"Step 1\")\n",
    "        for i, csv in enumerate(CSV):\n",
    "            fish = str(csv.loc[csv['Image_Label'] == id+\"_Fish\"]['EncodedPixels'].item())\n",
    "            if fish == \"nan\": fish = \"\"\n",
    "            fish = rle2mask(fish, width=WIDTH, height=HEIGHT, max_color=1)\n",
    "            \n",
    "            flower = str(csv.loc[csv['Image_Label'] == id+\"_Flower\"]['EncodedPixels'].item())\n",
    "            if flower == \"nan\": flower = \"\"\n",
    "            flower = rle2mask(flower, width=WIDTH, height=HEIGHT, max_color=1)\n",
    "#             draw(flower)\n",
    "            \n",
    "            gravel = str(csv.loc[csv['Image_Label'] == id+\"_Gravel\"]['EncodedPixels'].item())\n",
    "            if gravel == \"nan\": gravel = \"\"\n",
    "            gravel = rle2mask(gravel, width=WIDTH, height=HEIGHT, max_color=1)\n",
    "            \n",
    "            sugar = str(csv.loc[csv['Image_Label'] == id+\"_Sugar\"]['EncodedPixels'].item())\n",
    "            if sugar == \"nan\": sugar = \"\"\n",
    "            sugar = rle2mask(sugar, width=WIDTH, height=HEIGHT, max_color=1)\n",
    "            \n",
    "            mask[i] = mask[i] + 1*fish\n",
    "            mask[i] = mask[i] + 2*flower\n",
    "            mask[i] = mask[i] + 3*gravel\n",
    "            mask[i] = mask[i] + 4*sugar\n",
    "            \n",
    "#         pbar.set_description(\"Step 2\")\n",
    "        mask, counts = calculate_mode(mask, axis=0)\n",
    "        \n",
    "#         pbar.set_description(\"Step 3\")\n",
    "        fish = np.zeros((WIDTH, HEIGHT))\n",
    "        flower = np.zeros((WIDTH, HEIGHT))\n",
    "        gravel = np.zeros((WIDTH, HEIGHT))\n",
    "        sugar = np.zeros((WIDTH, HEIGHT))\n",
    "        \n",
    "#         pbar.set_description(\"Step 4\")\n",
    "        fish[mask[:,:]==1] = 1\n",
    "        flower[mask[:,:]==2] = 1\n",
    "        gravel[mask[:,:]==3] = 1\n",
    "        sugar[mask[:,:]==4] = 1\n",
    "#         draw(flower)\n",
    "        \n",
    "        if fish.sum() + flower.sum() + gravel.sum() + sugar.sum() == 0: empty = empty +1\n",
    "        \n",
    "#         pbar.set_description(\"Step 5\")\n",
    "        pbar.set_description(\"{}\".format(empty))\n",
    "        fish = mask2rle(fish, width=WIDTH, height=HEIGHT, max_color=1)\n",
    "        flower = mask2rle(flower, width=WIDTH, height=HEIGHT, max_color=1)\n",
    "        gravel = mask2rle(gravel, width=WIDTH, height=HEIGHT, max_color=1)\n",
    "        sugar = mask2rle(sugar, width=WIDTH, height=HEIGHT, max_color=1)\n",
    "        \n",
    "        prob_file.write('{},{}\\n'.format(id+\"_Fish\", fish))\n",
    "        prob_file.write('{},{}\\n'.format(id+\"_Flower\", flower))\n",
    "        prob_file.write('{},{}\\n'.format(id+\"_Gravel\", gravel))\n",
    "        prob_file.write('{},{}\\n'.format(id+\"_Sugar\", sugar))\n",
    "\n",
    "print(\"Output file '{}'\".format(prob_path))"
   ]
  },
  {
   "cell_type": "code",
   "execution_count": null,
   "metadata": {},
   "outputs": [],
   "source": []
  }
 ],
 "metadata": {
  "kernelspec": {
   "display_name": "Python 3",
   "language": "python",
   "name": "python3"
  },
  "language_info": {
   "codemirror_mode": {
    "name": "ipython",
    "version": 3
   },
   "file_extension": ".py",
   "mimetype": "text/x-python",
   "name": "python",
   "nbconvert_exporter": "python",
   "pygments_lexer": "ipython3",
   "version": "3.6.7"
  }
 },
 "nbformat": 4,
 "nbformat_minor": 2
}
