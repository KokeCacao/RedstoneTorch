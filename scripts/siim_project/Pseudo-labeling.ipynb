{
 "cells": [
  {
   "cell_type": "code",
   "execution_count": 1,
   "metadata": {},
   "outputs": [],
   "source": [
    "import os\n",
    "import numpy as np\n",
    "import pandas as pd\n",
    "import pydicom\n",
    "import matplotlib.pyplot as plt\n",
    "import cv2\n",
    "from tqdm import tqdm_notebook as tqdm\n",
    "from datetime import datetime"
   ]
  },
  {
   "cell_type": "code",
   "execution_count": 2,
   "metadata": {},
   "outputs": [],
   "source": [
    "def mask2rle(img, width=1024, height=1024, max_color=1):\n",
    "    rle = []\n",
    "    lastColor = 0\n",
    "    currentPixel = 0\n",
    "    runStart = -1\n",
    "    runLength = 0\n",
    "\n",
    "    for x in range(width):\n",
    "        for y in range(height):\n",
    "            currentColor = img[x][y]\n",
    "            if currentColor != lastColor:\n",
    "                if currentColor == max_color:\n",
    "                    runStart = currentPixel\n",
    "                    runLength = 1\n",
    "                else:\n",
    "                    rle.append(str(runStart))\n",
    "                    rle.append(str(runLength))\n",
    "                    runStart = -1\n",
    "                    runLength = 0\n",
    "                    currentPixel = 0\n",
    "            elif runStart > -1:\n",
    "                runLength += 1\n",
    "            lastColor = currentColor\n",
    "            currentPixel+=1\n",
    "\n",
    "    return \" \".join(rle)\n",
    "\n",
    "def rle2mask(rle, width=1024, height=1024, max_color=255):\n",
    "    mask = np.zeros(width * height)\n",
    "    \"\"\"WARNING: This function should only be used in SIIM dataset because it constains .T() transformation here\"\"\"\n",
    "    if rle == '-1': return mask.reshape(width, height)\n",
    "    array = np.asarray([int(x) for x in rle.split()])\n",
    "    starts = array[0::2]\n",
    "    lengths = array[1::2]\n",
    "\n",
    "    current_position = 0\n",
    "    for index, start in enumerate(starts):\n",
    "        current_position += start\n",
    "        mask[current_position:current_position+lengths[index]] = max_color\n",
    "        current_position += lengths[index]\n",
    "    \"\"\"WARNING: This function should only be used in SIIM dataset because it constains .T() transformation here\"\"\"\n",
    "    return mask.reshape(width, height)"
   ]
  },
  {
   "cell_type": "code",
   "execution_count": 3,
   "metadata": {},
   "outputs": [],
   "source": [
    "def draw(image, vmin=0, vmax=1):\n",
    "    F = plt.figure()\n",
    "    plt.imshow(np.squeeze(image), cmap='plasma', vmin=vmin, vmax=vmax)\n",
    "    plt.grid(False)\n",
    "def draw_gray(image, vmin=0, vmax=255):\n",
    "    F = plt.figure()\n",
    "    plt.imshow(np.squeeze(image), cmap='Greys', vmin=vmin, vmax=vmax)\n",
    "    plt.grid(False)\n",
    "def get_metadata_by_id(path):\n",
    "    ds = pydicom.dcmread(path)\n",
    "    return ds.PatientAge, ds.PatientSex, ds.PixelSpacing, ds.ReferringPhysicianName, ds.SeriesDescription, ds.ViewPosition\n",
    "def get_load_image_by_id(path):\n",
    "    ds = pydicom.read_file(path)\n",
    "    return np.array(ds.pixel_array)\n",
    "def get_time(ts): #1517875163.537053 -> 2018-02-05 23:59:23\n",
    "    return datetime.utcfromtimestamp(ts).strftime('%Y-%m-%d %H:%M:%S')"
   ]
  },
  {
   "cell_type": "markdown",
   "metadata": {},
   "source": [
    "# Settings"
   ]
  },
  {
   "cell_type": "code",
   "execution_count": 72,
   "metadata": {},
   "outputs": [],
   "source": [
    "SIIM_DATASET = \"/home/koke_cacao/Documents/Koke_Cacao/Python/WorkSpace/RedstoneTorch/data/siim_dataset/siim_dataset.csv\"\n",
    "External_PATH1 = \"/home/koke_cacao/Documents/Koke_Cacao/Python/WorkSpace/RedstoneTorch/data/siim_dataset/Data_Entry_2017.csv\"\n",
    "External_PATH2 = \"/home/koke_cacao/Documents/Koke_Cacao/Python/WorkSpace/RedstoneTorch/data/siim_dataset/BBox_List_2017.csv\"\n",
    "OUTPUT_FILE = \"/home/koke_cacao/Documents/Koke_Cacao/Python/WorkSpace/RedstoneTorch/data/siim_dataset/siim_dataset_external.csv\""
   ]
  },
  {
   "cell_type": "code",
   "execution_count": null,
   "metadata": {},
   "outputs": [],
   "source": [
    "siim_csv = pd.read_csv(SIIM_DATASET).set_index(\"ImageId\")\n",
    "siim_csv.head()"
   ]
  },
  {
   "cell_type": "markdown",
   "metadata": {},
   "source": [
    "# External Dataset Preprocess"
   ]
  },
  {
   "cell_type": "code",
   "execution_count": 7,
   "metadata": {},
   "outputs": [
    {
     "data": {
      "text/plain": [
       "Image Index\n",
       "00000001_000.png              Cardiomegaly\n",
       "00000001_001.png    Cardiomegaly|Emphysema\n",
       "00000001_002.png     Cardiomegaly|Effusion\n",
       "00000002_000.png                No Finding\n",
       "00000003_000.png                    Hernia\n",
       "dtype: object"
      ]
     },
     "execution_count": 7,
     "metadata": {},
     "output_type": "execute_result"
    }
   ],
   "source": [
    "# concat two external datasets\n",
    "external_csv = pd.concat([pd.read_csv(External_PATH1).set_index(\"Image Index\")[\"Finding Labels\"], pd.read_csv(External_PATH2).set_index(\"Image Index\")[\"Finding Label\"]], sort=False)\n",
    "external_csv.head()"
   ]
  },
  {
   "cell_type": "code",
   "execution_count": 18,
   "metadata": {},
   "outputs": [
    {
     "data": {
      "text/plain": [
       "Image Index\n",
       "00000013_011.png    1\n",
       "00000013_032.png    1\n",
       "00000013_033.png    1\n",
       "00000013_037.png    1\n",
       "00000103_002.png    1\n",
       "dtype: int64"
      ]
     },
     "execution_count": 18,
     "metadata": {},
     "output_type": "execute_result"
    }
   ],
   "source": [
    "# filter out non-sick images\n",
    "sick = external_csv[external_csv.str.contains(\"Pneumothorax\")]\n",
    "sick.head()\n",
    "\n",
    "# filter out non-sick images and images in siim stage-1 tran & test\n",
    "sick_external = sick[~sick.index.isin(siim_csv[\"NIHId\"])]\n",
    "sick_external.head()\n",
    "\n",
    "# Set everything to 1\n",
    "sick_external[:] = 1\n",
    "sick_external.head()"
   ]
  },
  {
   "cell_type": "code",
   "execution_count": 19,
   "metadata": {},
   "outputs": [
    {
     "data": {
      "text/plain": [
       "Image Index\n",
       "00000001_000.png    0\n",
       "00000001_001.png    0\n",
       "00000001_002.png    0\n",
       "00000002_000.png    0\n",
       "00000003_000.png    0\n",
       "dtype: int64"
      ]
     },
     "execution_count": 19,
     "metadata": {},
     "output_type": "execute_result"
    }
   ],
   "source": [
    "# filter out sick images\n",
    "non_sick = external_csv[~external_csv.str.contains(\"Pneumothorax\")]\n",
    "non_sick.head()\n",
    "\n",
    "# filter out non-sick images and images in siim stage-1 tran & test\n",
    "non_sick_external = non_sick[~non_sick.index.isin(siim_csv[\"NIHId\"])]\n",
    "non_sick_external.head()\n",
    "\n",
    "# Set everything to 0\n",
    "non_sick_external[:] = 0\n",
    "non_sick_external.head()"
   ]
  },
  {
   "cell_type": "markdown",
   "metadata": {},
   "source": [
    "##### Some Junk Code"
   ]
  },
  {
   "cell_type": "code",
   "execution_count": null,
   "metadata": {},
   "outputs": [],
   "source": [
    "# get out patient who never had pneumothorax before\n",
    "def get_no_sick_patient(df):\n",
    "    # print(df[df == \"Pneumothorax\"])\n",
    "    index = df.index.tolist()\n",
    "    at_least_one = []\n",
    "\n",
    "    for i in tqdm(index):\n",
    "        if \"Pneumothorax\" in df[i]:\n",
    "            at_least_one.append(i.split(\"_\")[0])\n",
    "    no_sick = [int(i) for i in set([i.split(\"_\")[0] for i in df.index.tolist()]) - set(at_least_one)]\n",
    "    print(\"Index: {}; No sick: {}; At least one: {}\".format(len(index), len(no_sick), len(at_least_one)))\n",
    "    return no_sick"
   ]
  },
  {
   "cell_type": "markdown",
   "metadata": {},
   "source": [
    "# Concat External to SIIM Big File"
   ]
  },
  {
   "cell_type": "code",
   "execution_count": 68,
   "metadata": {},
   "outputs": [
    {
     "name": "stdout",
     "output_type": "stream",
     "text": [
      "12047\n"
     ]
    },
    {
     "data": {
      "text/html": [
       "<div>\n",
       "<style scoped>\n",
       "    .dataframe tbody tr th:only-of-type {\n",
       "        vertical-align: middle;\n",
       "    }\n",
       "\n",
       "    .dataframe tbody tr th {\n",
       "        vertical-align: top;\n",
       "    }\n",
       "\n",
       "    .dataframe thead th {\n",
       "        text-align: right;\n",
       "    }\n",
       "</style>\n",
       "<table border=\"1\" class=\"dataframe\">\n",
       "  <thead>\n",
       "    <tr style=\"text-align: right;\">\n",
       "      <th></th>\n",
       "      <th>ImageId</th>\n",
       "      <th>PatientId</th>\n",
       "      <th>Test</th>\n",
       "      <th>Rle</th>\n",
       "      <th>Label</th>\n",
       "      <th>Time</th>\n",
       "      <th>TimeFloat</th>\n",
       "    </tr>\n",
       "    <tr>\n",
       "      <th>NIHId</th>\n",
       "      <th></th>\n",
       "      <th></th>\n",
       "      <th></th>\n",
       "      <th></th>\n",
       "      <th></th>\n",
       "      <th></th>\n",
       "      <th></th>\n",
       "    </tr>\n",
       "  </thead>\n",
       "  <tbody>\n",
       "    <tr>\n",
       "      <th>00028864_007.png</th>\n",
       "      <td>1.2.276.0.7230010.3.1.4.8323329.5597.151787518...</td>\n",
       "      <td>28864</td>\n",
       "      <td>train</td>\n",
       "      <td>-1</td>\n",
       "      <td>0</td>\n",
       "      <td>2018-02-05 23:59:48</td>\n",
       "      <td>1.517875e+09</td>\n",
       "    </tr>\n",
       "    <tr>\n",
       "      <th>00015606_016.png</th>\n",
       "      <td>1.2.276.0.7230010.3.1.4.8323329.12515.15178752...</td>\n",
       "      <td>15606</td>\n",
       "      <td>train</td>\n",
       "      <td>-1</td>\n",
       "      <td>0</td>\n",
       "      <td>2018-02-06 00:00:39</td>\n",
       "      <td>1.517875e+09</td>\n",
       "    </tr>\n",
       "    <tr>\n",
       "      <th>00018865_006.png</th>\n",
       "      <td>1.2.276.0.7230010.3.1.4.8323329.4904.151787518...</td>\n",
       "      <td>18865</td>\n",
       "      <td>train</td>\n",
       "      <td>175349 7 1013 12 1009 17 1005 19 1003 20 1002 ...</td>\n",
       "      <td>1</td>\n",
       "      <td>2018-02-05 23:59:45</td>\n",
       "      <td>1.517875e+09</td>\n",
       "    </tr>\n",
       "    <tr>\n",
       "      <th>00011831_006.png</th>\n",
       "      <td>1.2.276.0.7230010.3.1.4.8323329.32579.15178751...</td>\n",
       "      <td>11831</td>\n",
       "      <td>train</td>\n",
       "      <td>162376 12 1007 18 1003 22 999 26 996 28 993 30...</td>\n",
       "      <td>1</td>\n",
       "      <td>2018-02-05 23:59:21</td>\n",
       "      <td>1.517875e+09</td>\n",
       "    </tr>\n",
       "    <tr>\n",
       "      <th>00011460_024.png</th>\n",
       "      <td>1.2.276.0.7230010.3.1.4.8323329.1314.151787516...</td>\n",
       "      <td>11460</td>\n",
       "      <td>train</td>\n",
       "      <td>119331 47 972 82 937 107 912 122 897 137 882 1...</td>\n",
       "      <td>1</td>\n",
       "      <td>2018-02-05 23:59:27</td>\n",
       "      <td>1.517875e+09</td>\n",
       "    </tr>\n",
       "  </tbody>\n",
       "</table>\n",
       "</div>"
      ],
      "text/plain": [
       "                                                            ImageId  \\\n",
       "NIHId                                                                 \n",
       "00028864_007.png  1.2.276.0.7230010.3.1.4.8323329.5597.151787518...   \n",
       "00015606_016.png  1.2.276.0.7230010.3.1.4.8323329.12515.15178752...   \n",
       "00018865_006.png  1.2.276.0.7230010.3.1.4.8323329.4904.151787518...   \n",
       "00011831_006.png  1.2.276.0.7230010.3.1.4.8323329.32579.15178751...   \n",
       "00011460_024.png  1.2.276.0.7230010.3.1.4.8323329.1314.151787516...   \n",
       "\n",
       "                  PatientId   Test  \\\n",
       "NIHId                                \n",
       "00028864_007.png      28864  train   \n",
       "00015606_016.png      15606  train   \n",
       "00018865_006.png      18865  train   \n",
       "00011831_006.png      11831  train   \n",
       "00011460_024.png      11460  train   \n",
       "\n",
       "                                                                Rle Label  \\\n",
       "NIHId                                                                       \n",
       "00028864_007.png                                                 -1     0   \n",
       "00015606_016.png                                                 -1     0   \n",
       "00018865_006.png  175349 7 1013 12 1009 17 1005 19 1003 20 1002 ...     1   \n",
       "00011831_006.png  162376 12 1007 18 1003 22 999 26 996 28 993 30...     1   \n",
       "00011460_024.png  119331 47 972 82 937 107 912 122 897 137 882 1...     1   \n",
       "\n",
       "                                 Time     TimeFloat  \n",
       "NIHId                                                \n",
       "00028864_007.png  2018-02-05 23:59:48  1.517875e+09  \n",
       "00015606_016.png  2018-02-06 00:00:39  1.517875e+09  \n",
       "00018865_006.png  2018-02-05 23:59:45  1.517875e+09  \n",
       "00011831_006.png  2018-02-05 23:59:21  1.517875e+09  \n",
       "00011460_024.png  2018-02-05 23:59:27  1.517875e+09  "
      ]
     },
     "execution_count": 68,
     "metadata": {},
     "output_type": "execute_result"
    }
   ],
   "source": [
    "siim_csv = pd.read_csv(SIIM_DATASET).set_index(\"NIHId\")\n",
    "print(len(siim_csv))\n",
    "siim_csv.head()"
   ]
  },
  {
   "cell_type": "code",
   "execution_count": 69,
   "metadata": {},
   "outputs": [
    {
     "name": "stdout",
     "output_type": "stream",
     "text": [
      "13197\n"
     ]
    },
    {
     "data": {
      "application/vnd.jupyter.widget-view+json": {
       "model_id": "36d6080cfdc04ce69096db0170a0f1d4",
       "version_major": 2,
       "version_minor": 0
      },
      "text/plain": [
       "HBox(children=(IntProgress(value=0, max=1194), HTML(value='')))"
      ]
     },
     "metadata": {},
     "output_type": "display_data"
    },
    {
     "name": "stdout",
     "output_type": "stream",
     "text": [
      "\n"
     ]
    },
    {
     "data": {
      "text/html": [
       "<div>\n",
       "<style scoped>\n",
       "    .dataframe tbody tr th:only-of-type {\n",
       "        vertical-align: middle;\n",
       "    }\n",
       "\n",
       "    .dataframe tbody tr th {\n",
       "        vertical-align: top;\n",
       "    }\n",
       "\n",
       "    .dataframe thead th {\n",
       "        text-align: right;\n",
       "    }\n",
       "</style>\n",
       "<table border=\"1\" class=\"dataframe\">\n",
       "  <thead>\n",
       "    <tr style=\"text-align: right;\">\n",
       "      <th></th>\n",
       "      <th>ImageId</th>\n",
       "      <th>PatientId</th>\n",
       "      <th>Test</th>\n",
       "      <th>Rle</th>\n",
       "      <th>Label</th>\n",
       "      <th>Time</th>\n",
       "      <th>TimeFloat</th>\n",
       "    </tr>\n",
       "  </thead>\n",
       "  <tbody>\n",
       "    <tr>\n",
       "      <th>00028924_009.png</th>\n",
       "      <td>NaN</td>\n",
       "      <td>28924.0</td>\n",
       "      <td>NaN</td>\n",
       "      <td>NaN</td>\n",
       "      <td>1</td>\n",
       "      <td>NaN</td>\n",
       "      <td>NaN</td>\n",
       "    </tr>\n",
       "    <tr>\n",
       "      <th>00018055_038.png</th>\n",
       "      <td>NaN</td>\n",
       "      <td>18055.0</td>\n",
       "      <td>NaN</td>\n",
       "      <td>NaN</td>\n",
       "      <td>1</td>\n",
       "      <td>NaN</td>\n",
       "      <td>NaN</td>\n",
       "    </tr>\n",
       "    <tr>\n",
       "      <th>00016937_014.png</th>\n",
       "      <td>NaN</td>\n",
       "      <td>16937.0</td>\n",
       "      <td>NaN</td>\n",
       "      <td>NaN</td>\n",
       "      <td>1</td>\n",
       "      <td>NaN</td>\n",
       "      <td>NaN</td>\n",
       "    </tr>\n",
       "    <tr>\n",
       "      <th>00020671_010.png</th>\n",
       "      <td>NaN</td>\n",
       "      <td>20671.0</td>\n",
       "      <td>NaN</td>\n",
       "      <td>NaN</td>\n",
       "      <td>1</td>\n",
       "      <td>NaN</td>\n",
       "      <td>NaN</td>\n",
       "    </tr>\n",
       "    <tr>\n",
       "      <th>00018055_045.png</th>\n",
       "      <td>NaN</td>\n",
       "      <td>18055.0</td>\n",
       "      <td>NaN</td>\n",
       "      <td>NaN</td>\n",
       "      <td>1</td>\n",
       "      <td>NaN</td>\n",
       "      <td>NaN</td>\n",
       "    </tr>\n",
       "  </tbody>\n",
       "</table>\n",
       "</div>"
      ],
      "text/plain": [
       "                 ImageId  PatientId Test  Rle Label Time  TimeFloat\n",
       "00028924_009.png     NaN    28924.0  NaN  NaN     1  NaN        NaN\n",
       "00018055_038.png     NaN    18055.0  NaN  NaN     1  NaN        NaN\n",
       "00016937_014.png     NaN    16937.0  NaN  NaN     1  NaN        NaN\n",
       "00020671_010.png     NaN    20671.0  NaN  NaN     1  NaN        NaN\n",
       "00018055_045.png     NaN    18055.0  NaN  NaN     1  NaN        NaN"
      ]
     },
     "execution_count": 69,
     "metadata": {},
     "output_type": "execute_result"
    }
   ],
   "source": [
    "siim_csv = siim_csv.append(sick_external.to_frame(name=\"Label\"), sort=False)\n",
    "print(len(siim_csv))\n",
    "\n",
    "for row_index in tqdm(siim_csv.loc[sick_external.index.tolist()].index.tolist()):\n",
    "    siim_csv.loc[row_index, \"PatientId\"] = int(row_index.split(\"_\")[0])\n",
    "\n",
    "\n",
    "siim_csv.tail()\n",
    "# siim_csv[siim_csv[\"NIHId\"].isin(sick_external)].head()"
   ]
  },
  {
   "cell_type": "code",
   "execution_count": 70,
   "metadata": {},
   "outputs": [
    {
     "name": "stdout",
     "output_type": "stream",
     "text": [
      "112889\n"
     ]
    },
    {
     "data": {
      "application/vnd.jupyter.widget-view+json": {
       "model_id": "771cf0135eaa4207aa89d87d1e422d47",
       "version_major": 2,
       "version_minor": 0
      },
      "text/plain": [
       "HBox(children=(IntProgress(value=0, max=101337), HTML(value='')))"
      ]
     },
     "metadata": {},
     "output_type": "display_data"
    },
    {
     "name": "stdout",
     "output_type": "stream",
     "text": [
      "\n"
     ]
    },
    {
     "data": {
      "text/html": [
       "<div>\n",
       "<style scoped>\n",
       "    .dataframe tbody tr th:only-of-type {\n",
       "        vertical-align: middle;\n",
       "    }\n",
       "\n",
       "    .dataframe tbody tr th {\n",
       "        vertical-align: top;\n",
       "    }\n",
       "\n",
       "    .dataframe thead th {\n",
       "        text-align: right;\n",
       "    }\n",
       "</style>\n",
       "<table border=\"1\" class=\"dataframe\">\n",
       "  <thead>\n",
       "    <tr style=\"text-align: right;\">\n",
       "      <th></th>\n",
       "      <th>ImageId</th>\n",
       "      <th>PatientId</th>\n",
       "      <th>Test</th>\n",
       "      <th>Rle</th>\n",
       "      <th>Label</th>\n",
       "      <th>Time</th>\n",
       "      <th>TimeFloat</th>\n",
       "    </tr>\n",
       "  </thead>\n",
       "  <tbody>\n",
       "    <tr>\n",
       "      <th>00013187_002.png</th>\n",
       "      <td>NaN</td>\n",
       "      <td>13187.0</td>\n",
       "      <td>NaN</td>\n",
       "      <td>NaN</td>\n",
       "      <td>0</td>\n",
       "      <td>NaN</td>\n",
       "      <td>NaN</td>\n",
       "    </tr>\n",
       "    <tr>\n",
       "      <th>00029464_015.png</th>\n",
       "      <td>NaN</td>\n",
       "      <td>29464.0</td>\n",
       "      <td>NaN</td>\n",
       "      <td>NaN</td>\n",
       "      <td>0</td>\n",
       "      <td>NaN</td>\n",
       "      <td>NaN</td>\n",
       "    </tr>\n",
       "    <tr>\n",
       "      <th>00025769_001.png</th>\n",
       "      <td>NaN</td>\n",
       "      <td>25769.0</td>\n",
       "      <td>NaN</td>\n",
       "      <td>NaN</td>\n",
       "      <td>0</td>\n",
       "      <td>NaN</td>\n",
       "      <td>NaN</td>\n",
       "    </tr>\n",
       "    <tr>\n",
       "      <th>00016837_002.png</th>\n",
       "      <td>NaN</td>\n",
       "      <td>16837.0</td>\n",
       "      <td>NaN</td>\n",
       "      <td>NaN</td>\n",
       "      <td>0</td>\n",
       "      <td>NaN</td>\n",
       "      <td>NaN</td>\n",
       "    </tr>\n",
       "    <tr>\n",
       "      <th>00026920_000.png</th>\n",
       "      <td>NaN</td>\n",
       "      <td>26920.0</td>\n",
       "      <td>NaN</td>\n",
       "      <td>NaN</td>\n",
       "      <td>0</td>\n",
       "      <td>NaN</td>\n",
       "      <td>NaN</td>\n",
       "    </tr>\n",
       "  </tbody>\n",
       "</table>\n",
       "</div>"
      ],
      "text/plain": [
       "                 ImageId  PatientId Test  Rle Label Time  TimeFloat\n",
       "00013187_002.png     NaN    13187.0  NaN  NaN     0  NaN        NaN\n",
       "00029464_015.png     NaN    29464.0  NaN  NaN     0  NaN        NaN\n",
       "00025769_001.png     NaN    25769.0  NaN  NaN     0  NaN        NaN\n",
       "00016837_002.png     NaN    16837.0  NaN  NaN     0  NaN        NaN\n",
       "00026920_000.png     NaN    26920.0  NaN  NaN     0  NaN        NaN"
      ]
     },
     "execution_count": 70,
     "metadata": {},
     "output_type": "execute_result"
    }
   ],
   "source": [
    "siim_csv = siim_csv.append(non_sick_external[:-1].to_frame(name=\"Label\"), sort=False)\n",
    "print(len(siim_csv))\n",
    "\n",
    "\n",
    "for row_index in tqdm(siim_csv.loc[non_sick_external[:-1].index.tolist()].index.tolist()):\n",
    "    siim_csv.loc[row_index, \"PatientId\"] = int(row_index.split(\"_\")[0])\n",
    "\n",
    "siim_csv.tail()\n",
    "# siim_csv[siim_csv[\"NIHId\"].isin(sick_external)].head()"
   ]
  },
  {
   "cell_type": "code",
   "execution_count": 71,
   "metadata": {},
   "outputs": [
    {
     "data": {
      "text/html": [
       "<div>\n",
       "<style scoped>\n",
       "    .dataframe tbody tr th:only-of-type {\n",
       "        vertical-align: middle;\n",
       "    }\n",
       "\n",
       "    .dataframe tbody tr th {\n",
       "        vertical-align: top;\n",
       "    }\n",
       "\n",
       "    .dataframe thead th {\n",
       "        text-align: right;\n",
       "    }\n",
       "</style>\n",
       "<table border=\"1\" class=\"dataframe\">\n",
       "  <thead>\n",
       "    <tr style=\"text-align: right;\">\n",
       "      <th></th>\n",
       "      <th>ImageId</th>\n",
       "      <th>PatientId</th>\n",
       "      <th>Test</th>\n",
       "      <th>Rle</th>\n",
       "      <th>Label</th>\n",
       "      <th>Time</th>\n",
       "      <th>TimeFloat</th>\n",
       "    </tr>\n",
       "  </thead>\n",
       "  <tbody>\n",
       "    <tr>\n",
       "      <th>00013187_002.png</th>\n",
       "      <td>NaN</td>\n",
       "      <td>13187.0</td>\n",
       "      <td>external</td>\n",
       "      <td>NaN</td>\n",
       "      <td>0</td>\n",
       "      <td>NaN</td>\n",
       "      <td>NaN</td>\n",
       "    </tr>\n",
       "    <tr>\n",
       "      <th>00029464_015.png</th>\n",
       "      <td>NaN</td>\n",
       "      <td>29464.0</td>\n",
       "      <td>external</td>\n",
       "      <td>NaN</td>\n",
       "      <td>0</td>\n",
       "      <td>NaN</td>\n",
       "      <td>NaN</td>\n",
       "    </tr>\n",
       "    <tr>\n",
       "      <th>00025769_001.png</th>\n",
       "      <td>NaN</td>\n",
       "      <td>25769.0</td>\n",
       "      <td>external</td>\n",
       "      <td>NaN</td>\n",
       "      <td>0</td>\n",
       "      <td>NaN</td>\n",
       "      <td>NaN</td>\n",
       "    </tr>\n",
       "    <tr>\n",
       "      <th>00016837_002.png</th>\n",
       "      <td>NaN</td>\n",
       "      <td>16837.0</td>\n",
       "      <td>external</td>\n",
       "      <td>NaN</td>\n",
       "      <td>0</td>\n",
       "      <td>NaN</td>\n",
       "      <td>NaN</td>\n",
       "    </tr>\n",
       "    <tr>\n",
       "      <th>00026920_000.png</th>\n",
       "      <td>NaN</td>\n",
       "      <td>26920.0</td>\n",
       "      <td>external</td>\n",
       "      <td>NaN</td>\n",
       "      <td>0</td>\n",
       "      <td>NaN</td>\n",
       "      <td>NaN</td>\n",
       "    </tr>\n",
       "  </tbody>\n",
       "</table>\n",
       "</div>"
      ],
      "text/plain": [
       "                 ImageId  PatientId      Test  Rle Label Time  TimeFloat\n",
       "00013187_002.png     NaN    13187.0  external  NaN     0  NaN        NaN\n",
       "00029464_015.png     NaN    29464.0  external  NaN     0  NaN        NaN\n",
       "00025769_001.png     NaN    25769.0  external  NaN     0  NaN        NaN\n",
       "00016837_002.png     NaN    16837.0  external  NaN     0  NaN        NaN\n",
       "00026920_000.png     NaN    26920.0  external  NaN     0  NaN        NaN"
      ]
     },
     "execution_count": 71,
     "metadata": {},
     "output_type": "execute_result"
    }
   ],
   "source": [
    "siim_csv.loc[sick_external.index, \"Test\"] = \"external\"\n",
    "siim_csv.loc[non_sick_external[:-1].index, \"Test\"] = \"external\"\n",
    "siim_csv.tail()"
   ]
  },
  {
   "cell_type": "code",
   "execution_count": null,
   "metadata": {},
   "outputs": [],
   "source": [
    "siim_csv.to_csv(OUTPUT_FILE."
   ]
  }
 ],
 "metadata": {
  "kernelspec": {
   "display_name": "Python 3",
   "language": "python",
   "name": "python3"
  },
  "language_info": {
   "codemirror_mode": {
    "name": "ipython",
    "version": 3
   },
   "file_extension": ".py",
   "mimetype": "text/x-python",
   "name": "python",
   "nbconvert_exporter": "python",
   "pygments_lexer": "ipython3",
   "version": "3.6.7"
  }
 },
 "nbformat": 4,
 "nbformat_minor": 2
}
